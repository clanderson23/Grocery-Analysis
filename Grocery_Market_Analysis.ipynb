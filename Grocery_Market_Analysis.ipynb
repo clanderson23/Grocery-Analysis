{
  "cells": [
    {
      "cell_type": "markdown",
      "metadata": {
        "id": "view-in-github",
        "colab_type": "text"
      },
      "source": [
        "<a href=\"https://colab.research.google.com/github/clanderson23/Grocery-Analysis/blob/main/Grocery_Market_Analysis.ipynb\" target=\"_parent\"><img src=\"https://colab.research.google.com/assets/colab-badge.svg\" alt=\"Open In Colab\"/></a>"
      ]
    },
    {
      "cell_type": "code",
      "execution_count": 55,
      "metadata": {
        "colab": {
          "base_uri": "https://localhost:8080/"
        },
        "id": "pXCS44ujKqAo",
        "outputId": "6ef36251-dfa2-41e1-9fcc-e00196b077af"
      },
      "outputs": [
        {
          "output_type": "stream",
          "name": "stdout",
          "text": [
            "Drive already mounted at /content/gdrive; to attempt to forcibly remount, call drive.mount(\"/content/gdrive\", force_remount=True).\n"
          ]
        }
      ],
      "source": [
        "from google.colab import drive\n",
        "\n",
        "drive.mount('/content/gdrive')"
      ]
    },
    {
      "cell_type": "markdown",
      "metadata": {
        "id": "vDIK54VpO6ln"
      },
      "source": [
        "# Market Analysis: Online Grocery Orders\n"
      ]
    },
    {
      "cell_type": "markdown",
      "metadata": {
        "id": "cWDFgiz3MRfR"
      },
      "source": [
        "\n",
        "by Cheryl Anderson \n",
        "\n",
        "October 2022"
      ]
    },
    {
      "cell_type": "markdown",
      "metadata": {
        "id": "NUXEri1EkHyH"
      },
      "source": [
        "##Process"
      ]
    },
    {
      "cell_type": "markdown",
      "metadata": {
        "id": "b6uW3JZDMpn3"
      },
      "source": [
        "**Dataset:** https://www.kaggle.com/datasets/jackdaoud/marketing-data\n",
        "\n",
        "**Goal:** This project contains critical information about consumer habits regarding online grocery purchases. Our goal is to look at the factors which contribute to the highest amount of purchases. \n",
        "\n",
        "**Null Hypothesis:** The factor(s) do not have a statistically signficant impact on higher purchases.\n",
        "\n",
        "**Alternative Hypothesis:** The factor(s) do have a statistically significant impact on higer purchases. \n",
        "\n",
        "**Process:** Using statistical analysis in Python, we will investigagte which factors influence purchases the most, taking into account statistical correlation and p-value to determine the most valuable demographics to target in advertising. "
      ]
    },
    {
      "cell_type": "code",
      "execution_count": 56,
      "metadata": {
        "id": "BdLbi6g9Lfjf"
      },
      "outputs": [],
      "source": [
        "import pandas as pd\n",
        "import matplotlib.pyplot as plt\n",
        "import seaborn as sns\n",
        "import math\n",
        "from scipy.stats.stats import ttest_ind\n",
        "from scipy import stats\n",
        "sns.set()\n",
        "from google.colab import drive\n",
        "import warnings\n",
        "\n",
        "warnings.filterwarnings('ignore')"
      ]
    },
    {
      "cell_type": "code",
      "execution_count": 57,
      "metadata": {
        "colab": {
          "base_uri": "https://localhost:8080/",
          "height": 317
        },
        "id": "J5yXZv8YLj0F",
        "outputId": "4eb11748-cac3-42ee-fcc1-1ab0122668df"
      },
      "outputs": [
        {
          "output_type": "execute_result",
          "data": {
            "text/plain": [
              "   Income  Kidhome  Teenhome  Recency  MntWines  MntFruits  MntMeatProducts  \\\n",
              "0   58138        0         0       58       635         88              546   \n",
              "1   46344        1         1       38        11          1                6   \n",
              "2   71613        0         0       26       426         49              127   \n",
              "3   26646        1         0       26        11          4               20   \n",
              "4   58293        1         0       94       173         43              118   \n",
              "\n",
              "   MntFishProducts  MntSweetProducts  MntGoldProds  ...  marital_Together  \\\n",
              "0              172                88            88  ...                 0   \n",
              "1                2                 1             6  ...                 0   \n",
              "2              111                21            42  ...                 1   \n",
              "3               10                 3             5  ...                 1   \n",
              "4               46                27            15  ...                 0   \n",
              "\n",
              "   marital_Widow  education_2n Cycle  education_Basic  education_Graduation  \\\n",
              "0              0                   0                0                     1   \n",
              "1              0                   0                0                     1   \n",
              "2              0                   0                0                     1   \n",
              "3              0                   0                0                     1   \n",
              "4              0                   0                0                     0   \n",
              "\n",
              "   education_Master  education_PhD  MntTotal  MntRegularProds  \\\n",
              "0                 0              0      1529             1441   \n",
              "1                 0              0        21               15   \n",
              "2                 0              0       734              692   \n",
              "3                 0              0        48               43   \n",
              "4                 0              1       407              392   \n",
              "\n",
              "   AcceptedCmpOverall  \n",
              "0                   0  \n",
              "1                   0  \n",
              "2                   0  \n",
              "3                   0  \n",
              "4                   0  \n",
              "\n",
              "[5 rows x 39 columns]"
            ],
            "text/html": [
              "\n",
              "  <div id=\"df-f99fda57-2281-424c-95df-bd4d3d2bf6a8\">\n",
              "    <div class=\"colab-df-container\">\n",
              "      <div>\n",
              "<style scoped>\n",
              "    .dataframe tbody tr th:only-of-type {\n",
              "        vertical-align: middle;\n",
              "    }\n",
              "\n",
              "    .dataframe tbody tr th {\n",
              "        vertical-align: top;\n",
              "    }\n",
              "\n",
              "    .dataframe thead th {\n",
              "        text-align: right;\n",
              "    }\n",
              "</style>\n",
              "<table border=\"1\" class=\"dataframe\">\n",
              "  <thead>\n",
              "    <tr style=\"text-align: right;\">\n",
              "      <th></th>\n",
              "      <th>Income</th>\n",
              "      <th>Kidhome</th>\n",
              "      <th>Teenhome</th>\n",
              "      <th>Recency</th>\n",
              "      <th>MntWines</th>\n",
              "      <th>MntFruits</th>\n",
              "      <th>MntMeatProducts</th>\n",
              "      <th>MntFishProducts</th>\n",
              "      <th>MntSweetProducts</th>\n",
              "      <th>MntGoldProds</th>\n",
              "      <th>...</th>\n",
              "      <th>marital_Together</th>\n",
              "      <th>marital_Widow</th>\n",
              "      <th>education_2n Cycle</th>\n",
              "      <th>education_Basic</th>\n",
              "      <th>education_Graduation</th>\n",
              "      <th>education_Master</th>\n",
              "      <th>education_PhD</th>\n",
              "      <th>MntTotal</th>\n",
              "      <th>MntRegularProds</th>\n",
              "      <th>AcceptedCmpOverall</th>\n",
              "    </tr>\n",
              "  </thead>\n",
              "  <tbody>\n",
              "    <tr>\n",
              "      <th>0</th>\n",
              "      <td>58138</td>\n",
              "      <td>0</td>\n",
              "      <td>0</td>\n",
              "      <td>58</td>\n",
              "      <td>635</td>\n",
              "      <td>88</td>\n",
              "      <td>546</td>\n",
              "      <td>172</td>\n",
              "      <td>88</td>\n",
              "      <td>88</td>\n",
              "      <td>...</td>\n",
              "      <td>0</td>\n",
              "      <td>0</td>\n",
              "      <td>0</td>\n",
              "      <td>0</td>\n",
              "      <td>1</td>\n",
              "      <td>0</td>\n",
              "      <td>0</td>\n",
              "      <td>1529</td>\n",
              "      <td>1441</td>\n",
              "      <td>0</td>\n",
              "    </tr>\n",
              "    <tr>\n",
              "      <th>1</th>\n",
              "      <td>46344</td>\n",
              "      <td>1</td>\n",
              "      <td>1</td>\n",
              "      <td>38</td>\n",
              "      <td>11</td>\n",
              "      <td>1</td>\n",
              "      <td>6</td>\n",
              "      <td>2</td>\n",
              "      <td>1</td>\n",
              "      <td>6</td>\n",
              "      <td>...</td>\n",
              "      <td>0</td>\n",
              "      <td>0</td>\n",
              "      <td>0</td>\n",
              "      <td>0</td>\n",
              "      <td>1</td>\n",
              "      <td>0</td>\n",
              "      <td>0</td>\n",
              "      <td>21</td>\n",
              "      <td>15</td>\n",
              "      <td>0</td>\n",
              "    </tr>\n",
              "    <tr>\n",
              "      <th>2</th>\n",
              "      <td>71613</td>\n",
              "      <td>0</td>\n",
              "      <td>0</td>\n",
              "      <td>26</td>\n",
              "      <td>426</td>\n",
              "      <td>49</td>\n",
              "      <td>127</td>\n",
              "      <td>111</td>\n",
              "      <td>21</td>\n",
              "      <td>42</td>\n",
              "      <td>...</td>\n",
              "      <td>1</td>\n",
              "      <td>0</td>\n",
              "      <td>0</td>\n",
              "      <td>0</td>\n",
              "      <td>1</td>\n",
              "      <td>0</td>\n",
              "      <td>0</td>\n",
              "      <td>734</td>\n",
              "      <td>692</td>\n",
              "      <td>0</td>\n",
              "    </tr>\n",
              "    <tr>\n",
              "      <th>3</th>\n",
              "      <td>26646</td>\n",
              "      <td>1</td>\n",
              "      <td>0</td>\n",
              "      <td>26</td>\n",
              "      <td>11</td>\n",
              "      <td>4</td>\n",
              "      <td>20</td>\n",
              "      <td>10</td>\n",
              "      <td>3</td>\n",
              "      <td>5</td>\n",
              "      <td>...</td>\n",
              "      <td>1</td>\n",
              "      <td>0</td>\n",
              "      <td>0</td>\n",
              "      <td>0</td>\n",
              "      <td>1</td>\n",
              "      <td>0</td>\n",
              "      <td>0</td>\n",
              "      <td>48</td>\n",
              "      <td>43</td>\n",
              "      <td>0</td>\n",
              "    </tr>\n",
              "    <tr>\n",
              "      <th>4</th>\n",
              "      <td>58293</td>\n",
              "      <td>1</td>\n",
              "      <td>0</td>\n",
              "      <td>94</td>\n",
              "      <td>173</td>\n",
              "      <td>43</td>\n",
              "      <td>118</td>\n",
              "      <td>46</td>\n",
              "      <td>27</td>\n",
              "      <td>15</td>\n",
              "      <td>...</td>\n",
              "      <td>0</td>\n",
              "      <td>0</td>\n",
              "      <td>0</td>\n",
              "      <td>0</td>\n",
              "      <td>0</td>\n",
              "      <td>0</td>\n",
              "      <td>1</td>\n",
              "      <td>407</td>\n",
              "      <td>392</td>\n",
              "      <td>0</td>\n",
              "    </tr>\n",
              "  </tbody>\n",
              "</table>\n",
              "<p>5 rows × 39 columns</p>\n",
              "</div>\n",
              "      <button class=\"colab-df-convert\" onclick=\"convertToInteractive('df-f99fda57-2281-424c-95df-bd4d3d2bf6a8')\"\n",
              "              title=\"Convert this dataframe to an interactive table.\"\n",
              "              style=\"display:none;\">\n",
              "        \n",
              "  <svg xmlns=\"http://www.w3.org/2000/svg\" height=\"24px\"viewBox=\"0 0 24 24\"\n",
              "       width=\"24px\">\n",
              "    <path d=\"M0 0h24v24H0V0z\" fill=\"none\"/>\n",
              "    <path d=\"M18.56 5.44l.94 2.06.94-2.06 2.06-.94-2.06-.94-.94-2.06-.94 2.06-2.06.94zm-11 1L8.5 8.5l.94-2.06 2.06-.94-2.06-.94L8.5 2.5l-.94 2.06-2.06.94zm10 10l.94 2.06.94-2.06 2.06-.94-2.06-.94-.94-2.06-.94 2.06-2.06.94z\"/><path d=\"M17.41 7.96l-1.37-1.37c-.4-.4-.92-.59-1.43-.59-.52 0-1.04.2-1.43.59L10.3 9.45l-7.72 7.72c-.78.78-.78 2.05 0 2.83L4 21.41c.39.39.9.59 1.41.59.51 0 1.02-.2 1.41-.59l7.78-7.78 2.81-2.81c.8-.78.8-2.07 0-2.86zM5.41 20L4 18.59l7.72-7.72 1.47 1.35L5.41 20z\"/>\n",
              "  </svg>\n",
              "      </button>\n",
              "      \n",
              "  <style>\n",
              "    .colab-df-container {\n",
              "      display:flex;\n",
              "      flex-wrap:wrap;\n",
              "      gap: 12px;\n",
              "    }\n",
              "\n",
              "    .colab-df-convert {\n",
              "      background-color: #E8F0FE;\n",
              "      border: none;\n",
              "      border-radius: 50%;\n",
              "      cursor: pointer;\n",
              "      display: none;\n",
              "      fill: #1967D2;\n",
              "      height: 32px;\n",
              "      padding: 0 0 0 0;\n",
              "      width: 32px;\n",
              "    }\n",
              "\n",
              "    .colab-df-convert:hover {\n",
              "      background-color: #E2EBFA;\n",
              "      box-shadow: 0px 1px 2px rgba(60, 64, 67, 0.3), 0px 1px 3px 1px rgba(60, 64, 67, 0.15);\n",
              "      fill: #174EA6;\n",
              "    }\n",
              "\n",
              "    [theme=dark] .colab-df-convert {\n",
              "      background-color: #3B4455;\n",
              "      fill: #D2E3FC;\n",
              "    }\n",
              "\n",
              "    [theme=dark] .colab-df-convert:hover {\n",
              "      background-color: #434B5C;\n",
              "      box-shadow: 0px 1px 3px 1px rgba(0, 0, 0, 0.15);\n",
              "      filter: drop-shadow(0px 1px 2px rgba(0, 0, 0, 0.3));\n",
              "      fill: #FFFFFF;\n",
              "    }\n",
              "  </style>\n",
              "\n",
              "      <script>\n",
              "        const buttonEl =\n",
              "          document.querySelector('#df-f99fda57-2281-424c-95df-bd4d3d2bf6a8 button.colab-df-convert');\n",
              "        buttonEl.style.display =\n",
              "          google.colab.kernel.accessAllowed ? 'block' : 'none';\n",
              "\n",
              "        async function convertToInteractive(key) {\n",
              "          const element = document.querySelector('#df-f99fda57-2281-424c-95df-bd4d3d2bf6a8');\n",
              "          const dataTable =\n",
              "            await google.colab.kernel.invokeFunction('convertToInteractive',\n",
              "                                                     [key], {});\n",
              "          if (!dataTable) return;\n",
              "\n",
              "          const docLinkHtml = 'Like what you see? Visit the ' +\n",
              "            '<a target=\"_blank\" href=https://colab.research.google.com/notebooks/data_table.ipynb>data table notebook</a>'\n",
              "            + ' to learn more about interactive tables.';\n",
              "          element.innerHTML = '';\n",
              "          dataTable['output_type'] = 'display_data';\n",
              "          await google.colab.output.renderOutput(dataTable, element);\n",
              "          const docLink = document.createElement('div');\n",
              "          docLink.innerHTML = docLinkHtml;\n",
              "          element.appendChild(docLink);\n",
              "        }\n",
              "      </script>\n",
              "    </div>\n",
              "  </div>\n",
              "  "
            ]
          },
          "metadata": {},
          "execution_count": 57
        }
      ],
      "source": [
        "import pandas as pd\n",
        "market_df=pd.read_csv('/content/gdrive/My Drive/ifood_df.csv')\n",
        "\n",
        "market_df.head()"
      ]
    },
    {
      "cell_type": "code",
      "execution_count": 57,
      "metadata": {
        "id": "hQa5SosSL52R"
      },
      "outputs": [],
      "source": []
    },
    {
      "cell_type": "code",
      "execution_count": 58,
      "metadata": {
        "colab": {
          "base_uri": "https://localhost:8080/"
        },
        "id": "XiQ6IbGQL6TF",
        "outputId": "395c75df-4bd9-4e31-9247-4c755f5d815e"
      },
      "outputs": [
        {
          "output_type": "execute_result",
          "data": {
            "text/plain": [
              "(2205, 39)"
            ]
          },
          "metadata": {},
          "execution_count": 58
        }
      ],
      "source": [
        "market_df.shape"
      ]
    },
    {
      "cell_type": "code",
      "execution_count": 59,
      "metadata": {
        "colab": {
          "base_uri": "https://localhost:8080/"
        },
        "id": "8xD4cRXRL_Mu",
        "outputId": "ff379011-b754-49c1-e4ec-ff5b9b2c1834"
      },
      "outputs": [
        {
          "output_type": "stream",
          "name": "stdout",
          "text": [
            "<class 'pandas.core.frame.DataFrame'>\n",
            "RangeIndex: 2205 entries, 0 to 2204\n",
            "Data columns (total 39 columns):\n",
            " #   Column                Non-Null Count  Dtype\n",
            "---  ------                --------------  -----\n",
            " 0   Income                2205 non-null   int64\n",
            " 1   Kidhome               2205 non-null   int64\n",
            " 2   Teenhome              2205 non-null   int64\n",
            " 3   Recency               2205 non-null   int64\n",
            " 4   MntWines              2205 non-null   int64\n",
            " 5   MntFruits             2205 non-null   int64\n",
            " 6   MntMeatProducts       2205 non-null   int64\n",
            " 7   MntFishProducts       2205 non-null   int64\n",
            " 8   MntSweetProducts      2205 non-null   int64\n",
            " 9   MntGoldProds          2205 non-null   int64\n",
            " 10  NumDealsPurchases     2205 non-null   int64\n",
            " 11  NumWebPurchases       2205 non-null   int64\n",
            " 12  NumCatalogPurchases   2205 non-null   int64\n",
            " 13  NumStorePurchases     2205 non-null   int64\n",
            " 14  NumWebVisitsMonth     2205 non-null   int64\n",
            " 15  AcceptedCmp3          2205 non-null   int64\n",
            " 16  AcceptedCmp4          2205 non-null   int64\n",
            " 17  AcceptedCmp5          2205 non-null   int64\n",
            " 18  AcceptedCmp1          2205 non-null   int64\n",
            " 19  AcceptedCmp2          2205 non-null   int64\n",
            " 20  Complain              2205 non-null   int64\n",
            " 21  Z_CostContact         2205 non-null   int64\n",
            " 22  Z_Revenue             2205 non-null   int64\n",
            " 23  Response              2205 non-null   int64\n",
            " 24  Age                   2205 non-null   int64\n",
            " 25  Customer_Days         2205 non-null   int64\n",
            " 26  marital_Divorced      2205 non-null   int64\n",
            " 27  marital_Married       2205 non-null   int64\n",
            " 28  marital_Single        2205 non-null   int64\n",
            " 29  marital_Together      2205 non-null   int64\n",
            " 30  marital_Widow         2205 non-null   int64\n",
            " 31  education_2n Cycle    2205 non-null   int64\n",
            " 32  education_Basic       2205 non-null   int64\n",
            " 33  education_Graduation  2205 non-null   int64\n",
            " 34  education_Master      2205 non-null   int64\n",
            " 35  education_PhD         2205 non-null   int64\n",
            " 36  MntTotal              2205 non-null   int64\n",
            " 37  MntRegularProds       2205 non-null   int64\n",
            " 38  AcceptedCmpOverall    2205 non-null   int64\n",
            "dtypes: int64(39)\n",
            "memory usage: 672.0 KB\n"
          ]
        }
      ],
      "source": [
        "market_df.info()"
      ]
    },
    {
      "cell_type": "markdown",
      "metadata": {
        "id": "pl1y4CZ1Nezs"
      },
      "source": [
        "There are 39 columns of very important information about our consumer's purchases. First, let's look at income.\n"
      ]
    },
    {
      "cell_type": "markdown",
      "metadata": {
        "id": "WBfewcc7Owkv"
      },
      "source": [
        "# Income\n"
      ]
    },
    {
      "cell_type": "markdown",
      "metadata": {
        "id": "murbSJ_0PLeY"
      },
      "source": [
        "##Statistical Analysis\n",
        "**Null Hypothesis:** Income does not have a statistically significant influence on customer's purchase habits. \n",
        "\n",
        "**Alternative Hypothesis:** Income does have a statistically significant influence on customer's purchase habits.\n",
        "\n",
        "Let's investigate the relationship between 'Income' and 'NumStorePurchases,' or the number of purchases made by each consumer.  "
      ]
    },
    {
      "cell_type": "code",
      "execution_count": 60,
      "metadata": {
        "id": "vr7FvcqOOHv9"
      },
      "outputs": [],
      "source": [
        "#Get statistics on Income. \n"
      ]
    },
    {
      "cell_type": "code",
      "execution_count": 61,
      "metadata": {
        "colab": {
          "base_uri": "https://localhost:8080/"
        },
        "id": "HhKZX9gaXyAh",
        "outputId": "9bc325aa-addd-4f58-a697-ca6328865f7d"
      },
      "outputs": [
        {
          "output_type": "execute_result",
          "data": {
            "text/plain": [
              "count      2205.000000\n",
              "mean      51622.094785\n",
              "std       20713.063826\n",
              "min        1730.000000\n",
              "25%       35196.000000\n",
              "50%       51287.000000\n",
              "75%       68281.000000\n",
              "max      113734.000000\n",
              "Name: Income, dtype: float64"
            ]
          },
          "metadata": {},
          "execution_count": 61
        }
      ],
      "source": [
        "market_df['Income'].describe()"
      ]
    },
    {
      "cell_type": "markdown",
      "metadata": {
        "id": "tT7gIlQtYie2"
      },
      "source": [
        "The mean income for this dataset is 51,622, with more than 50% of the population making between 51,287 to 68,281.\n",
        "\n",
        "Now let's look at correlations between 'Income' and 'NumStorePurchases.'"
      ]
    },
    {
      "cell_type": "code",
      "execution_count": 62,
      "metadata": {
        "colab": {
          "base_uri": "https://localhost:8080/"
        },
        "id": "oW1QP1DqdvSI",
        "outputId": "26d4b799-b04e-4dba-a354-8a309617ca69"
      },
      "outputs": [
        {
          "output_type": "execute_result",
          "data": {
            "text/plain": [
              "0.687205716297932"
            ]
          },
          "metadata": {},
          "execution_count": 62
        }
      ],
      "source": [
        "market_df['Income'].corr(market_df['NumStorePurchases'])"
      ]
    },
    {
      "cell_type": "markdown",
      "metadata": {
        "id": "aseWubzGeAPr"
      },
      "source": [
        "The correlation is close to 1, so there is a positive relationship between these two factors. Let's do a statistical test to determine a p-value. "
      ]
    },
    {
      "cell_type": "code",
      "execution_count": 63,
      "metadata": {
        "colab": {
          "base_uri": "https://localhost:8080/"
        },
        "id": "RpGMFdqveEeM",
        "outputId": "615eb18b-a96c-4927-a73a-52607a525333"
      },
      "outputs": [
        {
          "output_type": "execute_result",
          "data": {
            "text/plain": [
              "(0.687205716297932, 4.428408588774628e-308)"
            ]
          },
          "metadata": {},
          "execution_count": 63
        }
      ],
      "source": [
        "from scipy import stats\n",
        "stats.pearsonr(market_df['Income'], market_df['NumStorePurchases'])"
      ]
    },
    {
      "cell_type": "markdown",
      "metadata": {
        "id": "4Az9KxAZfURP"
      },
      "source": [
        "**Alternative Hypothesis is Correct:** The p-value is very small, and negative. This indicates that the lower the income, the less purchases are made. This is logical, but let's put some visuals to it so we can see where best to stack our advertising budget for this demographic. "
      ]
    },
    {
      "cell_type": "markdown",
      "metadata": {
        "id": "MmbNRMi6g38k"
      },
      "source": [
        "##Visualizations"
      ]
    },
    {
      "cell_type": "code",
      "execution_count": 64,
      "metadata": {
        "colab": {
          "base_uri": "https://localhost:8080/",
          "height": 285
        },
        "id": "6LcCcEzvfvnI",
        "outputId": "16b93553-2479-4780-848a-959a04a464e9"
      },
      "outputs": [
        {
          "output_type": "display_data",
          "data": {
            "text/plain": [
              "<Figure size 432x288 with 1 Axes>"
            ],
            "image/png": "[encoded data removed]"
          },
          "metadata": {}
        }
      ],
      "source": [
        "import seaborn as sns\n",
        "sns.boxplot(y='Income', x= 'NumStorePurchases', data=market_df)\n",
        "plt.ioff()"
      ]
    },
    {
      "cell_type": "markdown",
      "metadata": {
        "id": "fMsqA10phoQ8"
      },
      "source": [
        "##Recommendation\n",
        "\n",
        "The higher number of purchases comes from the Incomes between 51K-68K per year. Target marketing towards this demographic.  "
      ]
    },
    {
      "cell_type": "markdown",
      "metadata": {
        "id": "pf0AH_wZiWlj"
      },
      "source": [
        "# Number of Small Children in Household\n",
        "\n",
        "The number of small children in the household is represented by the column 'Kidhome.' Let's investigate this column of data to learn more."
      ]
    },
    {
      "cell_type": "markdown",
      "metadata": {
        "id": "AtxJXIrvjbzg"
      },
      "source": [
        "##Statistical Analysis\n",
        "\n",
        "**Null Hypothesis:** There is no statistically significant relationship between number of small children in the household ('Kidhome') and number of store purchases ('NumStorePurchases')\n",
        "\n",
        "**Alternative Hypothesis:** There is a statistically significant relationship between number of small children in the household ('Kidhome') and number of store purchases ('NumStorePurchases')"
      ]
    },
    {
      "cell_type": "code",
      "execution_count": 65,
      "metadata": {
        "colab": {
          "base_uri": "https://localhost:8080/"
        },
        "id": "wSpX2vlBiZKE",
        "outputId": "8752fd29-325c-4a27-eb03-24ddcda22d6d"
      },
      "outputs": [
        {
          "output_type": "execute_result",
          "data": {
            "text/plain": [
              "count    2205.000000\n",
              "mean        0.442177\n",
              "std         0.537132\n",
              "min         0.000000\n",
              "25%         0.000000\n",
              "50%         0.000000\n",
              "75%         1.000000\n",
              "max         2.000000\n",
              "Name: Kidhome, dtype: float64"
            ]
          },
          "metadata": {},
          "execution_count": 65
        }
      ],
      "source": [
        "market_df['Kidhome'].describe()"
      ]
    },
    {
      "cell_type": "markdown",
      "metadata": {
        "id": "sLaOK1qojRxw"
      },
      "source": [
        "75% of the costumers in this dataset have 1 child at home. This can be a very important factor on number of store purchases. Let's see if there is a correlation. "
      ]
    },
    {
      "cell_type": "code",
      "execution_count": 66,
      "metadata": {
        "colab": {
          "base_uri": "https://localhost:8080/"
        },
        "id": "mq6H-P5ikjom",
        "outputId": "6d1644df-ced5-4801-aab4-9dec5450daa4"
      },
      "outputs": [
        {
          "output_type": "execute_result",
          "data": {
            "text/plain": [
              "-0.506543168133882"
            ]
          },
          "metadata": {},
          "execution_count": 66
        }
      ],
      "source": [
        "market_df['Kidhome'].corr(market_df['NumStorePurchases'])"
      ]
    },
    {
      "cell_type": "markdown",
      "metadata": {
        "id": "7AbbWYJkk7WU"
      },
      "source": [
        "The statistical correlation is close to -1, therefore there is a relationship, and it is negative. It is likely that those who have small children do not have as many store purchases. Let's do a pearsonr test to determine the p-value to make sure. "
      ]
    },
    {
      "cell_type": "code",
      "execution_count": 67,
      "metadata": {
        "colab": {
          "base_uri": "https://localhost:8080/"
        },
        "id": "-o0jtEq0lNX5",
        "outputId": "657f510d-f7de-4764-87e6-17c82aa0df5a"
      },
      "outputs": [
        {
          "output_type": "execute_result",
          "data": {
            "text/plain": [
              "(-0.5065431681338823, 4.851382514503082e-144)"
            ]
          },
          "metadata": {},
          "execution_count": 67
        }
      ],
      "source": [
        "stats.pearsonr(market_df['Kidhome'], market_df['NumStorePurchases'])"
      ]
    },
    {
      "cell_type": "markdown",
      "metadata": {
        "id": "YqQr310tlXxL"
      },
      "source": [
        "**Alternative Hypothesis is Correct:** The p-value is very small, and negative. This indicates that the fewer children are in the home, the *more* purchases are made. This is logical, but let's put some visuals to it so we can see where best to stack our advertising budget for this demographic. "
      ]
    },
    {
      "cell_type": "markdown",
      "metadata": {
        "id": "B2kYVsvIlpz3"
      },
      "source": [
        "##Visualizations"
      ]
    },
    {
      "cell_type": "code",
      "execution_count": 68,
      "metadata": {
        "colab": {
          "base_uri": "https://localhost:8080/",
          "height": 285
        },
        "id": "jUVfdoA1lnKZ",
        "outputId": "441f3f39-630e-47c4-bb6f-d4c7c2d6a089"
      },
      "outputs": [
        {
          "output_type": "display_data",
          "data": {
            "text/plain": [
              "<Figure size 432x288 with 1 Axes>"
            ],
            "image/png": "[encoded data removed]"
          },
          "metadata": {}
        }
      ],
      "source": [
        "sns.lineplot(y='Kidhome', x= 'NumStorePurchases', data=market_df)\n",
        "plt.ioff()"
      ]
    },
    {
      "cell_type": "markdown",
      "metadata": {
        "id": "nGF7WCPz-8q7"
      },
      "source": [
        "## Recommendation \n",
        "\n",
        "Households with no small children have more purchases overall than households with small children. Of the households with small children, the houses with 1 small child had greater purchases than those with more than one child. Households with no small children are the demographic to target to drive sales for this market."
      ]
    },
    {
      "cell_type": "code",
      "execution_count": 68,
      "metadata": {
        "id": "lI_h-YQd_B63"
      },
      "outputs": [],
      "source": []
    },
    {
      "cell_type": "markdown",
      "metadata": {
        "id": "BfJ_06_Q_mcN"
      },
      "source": [
        "# Number of Teenagers in Household\n"
      ]
    },
    {
      "cell_type": "markdown",
      "metadata": {
        "id": "ZWnossOyAGOK"
      },
      "source": [
        "##Statistical Analysis\n",
        "\n",
        "**Null Hypothesis:** The number of teenagers in household ('Teenhome') does not have an impact on number of store purchased ('NumStorePurchases')\n",
        "**Alternative Hypothesis:** The number of teenagers in household ('Teenhome') does have an impact on number of store purchased ('NumStorePurchases')"
      ]
    },
    {
      "cell_type": "code",
      "execution_count": 69,
      "metadata": {
        "colab": {
          "base_uri": "https://localhost:8080/"
        },
        "id": "Nlt-wEElAIXT",
        "outputId": "255fd432-a027-4b26-fc30-93e5d3897256"
      },
      "outputs": [
        {
          "output_type": "execute_result",
          "data": {
            "text/plain": [
              "count    2205.000000\n",
              "mean        0.506576\n",
              "std         0.544380\n",
              "min         0.000000\n",
              "25%         0.000000\n",
              "50%         0.000000\n",
              "75%         1.000000\n",
              "max         2.000000\n",
              "Name: Teenhome, dtype: float64"
            ]
          },
          "metadata": {},
          "execution_count": 69
        }
      ],
      "source": [
        "market_df['Teenhome'].describe()"
      ]
    },
    {
      "cell_type": "code",
      "execution_count": 70,
      "metadata": {
        "colab": {
          "base_uri": "https://localhost:8080/"
        },
        "id": "nhETb_csA9Uq",
        "outputId": "18c65d0b-760e-415b-92c0-9c9ef399a916"
      },
      "outputs": [
        {
          "output_type": "execute_result",
          "data": {
            "text/plain": [
              "0.04732114813553781"
            ]
          },
          "metadata": {},
          "execution_count": 70
        }
      ],
      "source": [
        "market_df['Teenhome'].corr(market_df['NumStorePurchases'])"
      ]
    },
    {
      "cell_type": "markdown",
      "metadata": {
        "id": "eIOXYDyiBGxm"
      },
      "source": [
        "This number is close to 0, indicating there may not be any correlation between teens in the household and number of store purchases. Let's investigate further. "
      ]
    },
    {
      "cell_type": "code",
      "execution_count": 71,
      "metadata": {
        "colab": {
          "base_uri": "https://localhost:8080/"
        },
        "id": "IYaFem_nB0F4",
        "outputId": "85952100-ab26-4b3a-fe37-249159c76364"
      },
      "outputs": [
        {
          "output_type": "execute_result",
          "data": {
            "text/plain": [
              "(0.04732114813553772, 0.02627896750707939)"
            ]
          },
          "metadata": {},
          "execution_count": 71
        }
      ],
      "source": [
        "stats.pearsonr(market_df['Teenhome'], market_df['NumStorePurchases'])"
      ]
    },
    {
      "cell_type": "markdown",
      "metadata": {
        "id": "pdkKWXb3CTT8"
      },
      "source": [
        "##Visualizations"
      ]
    },
    {
      "cell_type": "code",
      "execution_count": 72,
      "metadata": {
        "colab": {
          "base_uri": "https://localhost:8080/",
          "height": 288
        },
        "id": "FL1mL4DUCAhl",
        "outputId": "8d661eb6-bced-464f-d596-19e1b718c75a"
      },
      "outputs": [
        {
          "output_type": "display_data",
          "data": {
            "text/plain": [
              "<Figure size 432x288 with 1 Axes>"
            ],
            "image/png": "[encoded data removed]"
          },
          "metadata": {}
        }
      ],
      "source": [
        "sns.lineplot(y='Teenhome', x= 'NumStorePurchases', data=market_df) \n",
        "plt.ioff()"
      ]
    },
    {
      "cell_type": "markdown",
      "metadata": {
        "id": "aDqSRYPJCKUE"
      },
      "source": [
        "From the above measures, we can conclude that households with less teens in the home make more purchases."
      ]
    },
    {
      "cell_type": "markdown",
      "metadata": {
        "id": "SA51KGvsCRC9"
      },
      "source": [
        "##Recommendation \n",
        "\n",
        "Households with no teenagers tend to have more purchases than households with teenagers. Target our marketing to the demographics with few or no children. This could be a result of income decreasing with number of children increasing. Let's investigate that in our next statistcal analysis. "
      ]
    },
    {
      "cell_type": "markdown",
      "source": [
        "#Income and Households with Kids "
      ],
      "metadata": {
        "id": "KkUI0KyRKCm1"
      }
    },
    {
      "cell_type": "code",
      "source": [
        "stats.pearsonr(market_df['Kidhome'], market_df['Income'])"
      ],
      "metadata": {
        "colab": {
          "base_uri": "https://localhost:8080/"
        },
        "id": "Ww-0LLo8JP3N",
        "outputId": "9a578414-6926-4196-a044-e1344a4bae9a"
      },
      "execution_count": 73,
      "outputs": [
        {
          "output_type": "execute_result",
          "data": {
            "text/plain": [
              "(-0.5316989197748733, 3.59906334851104e-161)"
            ]
          },
          "metadata": {},
          "execution_count": 73
        }
      ]
    },
    {
      "cell_type": "markdown",
      "source": [
        "##Statistical Analysis\n",
        "**Alternative Hypothesis** is correct: A statistically significant relationship exists between income and households in this dataset who have small children. This is indicated by the small p-Value: 3.59906334851104e-161\n"
      ],
      "metadata": {
        "id": "Pv0yP1kPKLkL"
      }
    },
    {
      "cell_type": "markdown",
      "source": [
        "##Visualizations\n"
      ],
      "metadata": {
        "id": "-YuyfeCNLILA"
      }
    },
    {
      "cell_type": "code",
      "source": [
        "sns.boxplot(y= 'Income', x='Kidhome', data= market_df, hue='Kidhome')\n",
        "plt.ioff()"
      ],
      "metadata": {
        "colab": {
          "base_uri": "https://localhost:8080/",
          "height": 285
        },
        "id": "Imo5T4GMJPao",
        "outputId": "a17948df-d87c-42a4-c5fd-e3db8b2f0f1d"
      },
      "execution_count": 74,
      "outputs": [
        {
          "output_type": "display_data",
          "data": {
            "text/plain": [
              "<Figure size 432x288 with 1 Axes>"
            ],
            "image/png": "[encoded data removed]"
          },
          "metadata": {}
        }
      ]
    },
    {
      "cell_type": "markdown",
      "source": [
        "As we can see very clearly from this visualization, households with 0 children have the highest incomes. "
      ],
      "metadata": {
        "id": "uG0CYqQxKiv_"
      }
    },
    {
      "cell_type": "markdown",
      "source": [
        "##Recommendation\n",
        "\n",
        "Although households with higher incomes do purchase more goods, let's investigate which goods are purchased by higher income households, and which goods by lower income households. \n",
        "\n"
      ],
      "metadata": {
        "id": "QyksQfHBLWME"
      }
    },
    {
      "cell_type": "markdown",
      "source": [
        "# Product Demographics\n",
        "\n",
        "Our customers have diverse needs. We need to make sure we are catering to all of our loyal customers and not just a select few. Therefore, we need to see who is buying what. This data is amount spent by each customer on each product category over the last 2 years.  Let's take a look. "
      ],
      "metadata": {
        "id": "rkjGJSmYL4mD"
      }
    },
    {
      "cell_type": "markdown",
      "source": [
        "## Wines\n",
        "\n",
        "Our customers love our wine selection, but who is buying what?\n",
        " "
      ],
      "metadata": {
        "id": "QdlSLn0TMURs"
      }
    },
    {
      "cell_type": "markdown",
      "source": [
        "###Income"
      ],
      "metadata": {
        "id": "at-LVcV7UKW6"
      }
    },
    {
      "cell_type": "code",
      "source": [
        "stats.pearsonr(market_df['Income'], market_df['MntWines'])"
      ],
      "metadata": {
        "colab": {
          "base_uri": "https://localhost:8080/"
        },
        "id": "BaBjAoXqUTxF",
        "outputId": "d57fc9bb-09f9-41e9-d43f-f9173be312c2"
      },
      "execution_count": 84,
      "outputs": [
        {
          "output_type": "execute_result",
          "data": {
            "text/plain": [
              "(0.7304951613642853, 0.0)"
            ]
          },
          "metadata": {},
          "execution_count": 84
        }
      ]
    },
    {
      "cell_type": "markdown",
      "source": [
        "**Alternative Hypothesis** is correct, there is a statistically significant relationship between income and the amount of wines purchased over the last two years. "
      ],
      "metadata": {
        "id": "5rMZV7NvUiC5"
      }
    },
    {
      "cell_type": "code",
      "source": [
        "sns.boxplot(y= 'Income', x= 'MntWines', data=market_df)\n",
        "plt.ioff()"
      ],
      "metadata": {
        "colab": {
          "base_uri": "https://localhost:8080/",
          "height": 285
        },
        "id": "bJ2dZezxPIDq",
        "outputId": "64a35cf9-2db7-462d-9218-8b470500a0d2"
      },
      "execution_count": 83,
      "outputs": [
        {
          "output_type": "display_data",
          "data": {
            "text/plain": [
              "<Figure size 432x288 with 1 Axes>"
            ],
            "image/png": "[encoded data removed]"
          },
          "metadata": {}
        }
      ]
    },
    {
      "cell_type": "markdown",
      "source": [
        "**Conclusions**\n",
        "\n",
        "It looks like customers who bought the most wines over the past two years made above 60,000 per year, but not more than 90,000. So this is a good general demographic. However, many customers bought up to 400 wines from our market in the last 2 years who are in the income bracket between 20,000 and 80,000. \n",
        "\n",
        "Let's investigate further to find statistics on who buys our wines the most. "
      ],
      "metadata": {
        "id": "LEwtHMYaQO-h"
      }
    },
    {
      "cell_type": "markdown",
      "source": [
        "###Kids "
      ],
      "metadata": {
        "id": "yrlKmF41dEcl"
      }
    },
    {
      "cell_type": "code",
      "source": [
        "stats.pearsonr(market_df['MntWines'], market_df['Kidhome'])"
      ],
      "metadata": {
        "colab": {
          "base_uri": "https://localhost:8080/"
        },
        "id": "utwgqcrsdCaW",
        "outputId": "73eff840-9b6e-4768-d2c3-6c8eb78e9a3c"
      },
      "execution_count": 113,
      "outputs": [
        {
          "output_type": "execute_result",
          "data": {
            "text/plain": [
              "(-0.4992876090170556, 2.3188425400530166e-139)"
            ]
          },
          "metadata": {},
          "execution_count": 113
        }
      ]
    },
    {
      "cell_type": "markdown",
      "source": [
        "**Alternative Hypothesis** is correct: the number of small children in the household does have a statistically significant relationship to the amount of wine purchases. This is shown by the very small p-value of 2.3188425400530166e-139."
      ],
      "metadata": {
        "id": "jL83V1prehto"
      }
    },
    {
      "cell_type": "code",
      "source": [
        "sns.lineplot(y='MntWines', x='Income', hue='Kidhome', data=market_df)\n",
        "plt.ioff()"
      ],
      "metadata": {
        "colab": {
          "base_uri": "https://localhost:8080/",
          "height": 285
        },
        "id": "-OeG9PHCdTWz",
        "outputId": "7d0f6f0f-0725-406d-e83a-3cc77fcaf4ec"
      },
      "execution_count": 116,
      "outputs": [
        {
          "output_type": "display_data",
          "data": {
            "text/plain": [
              "<Figure size 432x288 with 1 Axes>"
            ],
            "image/png": "[encoded data removed]"
          },
          "metadata": {}
        }
      ]
    },
    {
      "cell_type": "markdown",
      "source": [
        "**Conclusions** The demographics with the most wine purchases within the last two years are households who made between 40k-90k and who had 1 or no children. "
      ],
      "metadata": {
        "id": "3lwR54LFfIIs"
      }
    },
    {
      "cell_type": "markdown",
      "source": [
        "##Fruits"
      ],
      "metadata": {
        "id": "qywDSZkQMkh3"
      }
    },
    {
      "cell_type": "markdown",
      "source": [
        "###Income\n",
        "\n",
        "Is there a statistically significant relationship between Income and Fruit purchases within the last two years? "
      ],
      "metadata": {
        "id": "CjXoIzvIfxO0"
      }
    },
    {
      "cell_type": "code",
      "source": [
        "stats.pearsonr(market_df['MntFruits'], market_df['Income'])"
      ],
      "metadata": {
        "colab": {
          "base_uri": "https://localhost:8080/"
        },
        "id": "aEgUcXx0hFOq",
        "outputId": "59f30a4d-a2f2-466a-a5b1-962e643b263d"
      },
      "execution_count": 118,
      "outputs": [
        {
          "output_type": "execute_result",
          "data": {
            "text/plain": [
              "(0.5379202581686492, 1.2373160066764423e-165)"
            ]
          },
          "metadata": {},
          "execution_count": 118
        }
      ]
    },
    {
      "cell_type": "markdown",
      "source": [
        "**Alternative Hypothesis** is correct. The p-value is 1.2373160066764423e-165, which shows there is a statistically significant relationship."
      ],
      "metadata": {
        "id": "peH-cwFFhYwp"
      }
    },
    {
      "cell_type": "code",
      "source": [
        "sns.histplot(y='Income', x='MntFruits', data=market_df)"
      ],
      "metadata": {
        "colab": {
          "base_uri": "https://localhost:8080/",
          "height": 303
        },
        "id": "2q_9ljUNhzJI",
        "outputId": "ddfd4fac-7bd8-40b4-b9c0-a1fbf7f7a8d3"
      },
      "execution_count": 120,
      "outputs": [
        {
          "output_type": "execute_result",
          "data": {
            "text/plain": [
              "<matplotlib.axes._subplots.AxesSubplot at 0x7f3170f67810>"
            ]
          },
          "metadata": {},
          "execution_count": 120
        },
        {
          "output_type": "display_data",
          "data": {
            "text/plain": [
              "<Figure size 432x288 with 1 Axes>"
            ],
            "image/png": "[encoded data removed]"
          },
          "metadata": {}
        }
      ]
    },
    {
      "cell_type": "markdown",
      "source": [
        "###Kids"
      ],
      "metadata": {
        "id": "Eya-Pol-fzFl"
      }
    },
    {
      "cell_type": "code",
      "source": [
        "stats.pearsonr(market_df['MntFruits'], market_df['Kidhome'])"
      ],
      "metadata": {
        "colab": {
          "base_uri": "https://localhost:8080/"
        },
        "id": "KUKpADZXiGvG",
        "outputId": "da9d4972-c4c2-4aab-da87-d42afddcdd58"
      },
      "execution_count": 122,
      "outputs": [
        {
          "output_type": "execute_result",
          "data": {
            "text/plain": [
              "(-0.37438831245187026, 2.589526291908305e-74)"
            ]
          },
          "metadata": {},
          "execution_count": 122
        }
      ]
    },
    {
      "cell_type": "code",
      "source": [
        "sns.lineplot(x='MntFruits', y='Income', hue='Kidhome', data=market_df)\n",
        "plt.ioff()"
      ],
      "metadata": {
        "colab": {
          "base_uri": "https://localhost:8080/",
          "height": 285
        },
        "id": "r69BK2sKiG-H",
        "outputId": "9ad3f173-da35-48ca-f8aa-4593e7cdf2a8"
      },
      "execution_count": 125,
      "outputs": [
        {
          "output_type": "display_data",
          "data": {
            "text/plain": [
              "<Figure size 432x288 with 1 Axes>"
            ],
            "image/png": "[encoded data removed]"
          },
          "metadata": {}
        }
      ]
    },
    {
      "cell_type": "code",
      "source": [],
      "metadata": {
        "id": "ySW-sHk4MvAp"
      },
      "execution_count": 75,
      "outputs": []
    },
    {
      "cell_type": "markdown",
      "source": [
        "##Meat"
      ],
      "metadata": {
        "id": "FN5i5CTbMpoH"
      }
    },
    {
      "cell_type": "markdown",
      "source": [
        "###Income"
      ],
      "metadata": {
        "id": "ksohuzRUiwg0"
      }
    },
    {
      "cell_type": "markdown",
      "source": [
        "###Kids\n"
      ],
      "metadata": {
        "id": "bxl1yZOEiyMV"
      }
    },
    {
      "cell_type": "code",
      "source": [],
      "metadata": {
        "id": "cXe4doPjivmB"
      },
      "execution_count": null,
      "outputs": []
    },
    {
      "cell_type": "code",
      "source": [],
      "metadata": {
        "id": "96hjV-hhMxFy"
      },
      "execution_count": 75,
      "outputs": []
    },
    {
      "cell_type": "markdown",
      "source": [
        "##Fish\n"
      ],
      "metadata": {
        "id": "oRg3_7xnMxpH"
      }
    },
    {
      "cell_type": "markdown",
      "source": [
        "###Income"
      ],
      "metadata": {
        "id": "G1dJ5HzCi2LJ"
      }
    },
    {
      "cell_type": "markdown",
      "source": [
        "###Kids"
      ],
      "metadata": {
        "id": "izT2azSoi3pt"
      }
    },
    {
      "cell_type": "code",
      "source": [],
      "metadata": {
        "id": "8cRoh-DGM16K"
      },
      "execution_count": 75,
      "outputs": []
    },
    {
      "cell_type": "markdown",
      "source": [
        "#Sweets"
      ],
      "metadata": {
        "id": "sIDyQ6DeM2VK"
      }
    },
    {
      "cell_type": "markdown",
      "source": [
        "###Income"
      ],
      "metadata": {
        "id": "i3C2GSYIi56e"
      }
    },
    {
      "cell_type": "markdown",
      "source": [
        "###Kids"
      ],
      "metadata": {
        "id": "02581xXhi9YW"
      }
    },
    {
      "cell_type": "code",
      "source": [],
      "metadata": {
        "id": "XIRy5VOcM8Z-"
      },
      "execution_count": 75,
      "outputs": []
    },
    {
      "cell_type": "markdown",
      "source": [
        "#Gold\n"
      ],
      "metadata": {
        "id": "iOFricnJM7oP"
      }
    },
    {
      "cell_type": "markdown",
      "source": [
        "###Income"
      ],
      "metadata": {
        "id": "QOko7AhKi_Uy"
      }
    },
    {
      "cell_type": "markdown",
      "source": [
        "###Kids"
      ],
      "metadata": {
        "id": "x9pty3wZjARX"
      }
    },
    {
      "cell_type": "markdown",
      "source": [],
      "metadata": {
        "id": "tS9uPB8CjBXe"
      }
    },
    {
      "cell_type": "code",
      "source": [],
      "metadata": {
        "id": "up8r2sq2M-8l"
      },
      "execution_count": 75,
      "outputs": []
    }
  ],
  "metadata": {
    "colab": {
      "collapsed_sections": [],
      "toc_visible": true,
      "provenance": [],
      "authorship_tag": "ABX9TyOFwV8t0gj9PiDbE+ijyY6I",
      "include_colab_link": true
    },
    "kernelspec": {
      "display_name": "Python 3",
      "name": "python3"
    },
    "language_info": {
      "name": "python"
    }
  },
  "nbformat": 4,
  "nbformat_minor": 0
}