{
  "cells": [
    {
      "cell_type": "markdown",
      "metadata": {
        "id": "view-in-github",
        "colab_type": "text"
      },
      "source": [
        "<a href=\"https://colab.research.google.com/github/clanderson23/Grocery-Analysis/blob/main/Grocery_Market_Analysis.ipynb\" target=\"_parent\"><img src=\"https://colab.research.google.com/assets/colab-badge.svg\" alt=\"Open In Colab\"/></a>"
      ]
    },
    {
      "cell_type": "code",
      "execution_count": 1,
      "metadata": {
        "colab": {
          "base_uri": "https://localhost:8080/"
        },
        "id": "pXCS44ujKqAo",
        "outputId": "d0bdaca1-c941-408f-b91b-d78a39097ccf"
      },
      "outputs": [
        {
          "output_type": "stream",
          "name": "stdout",
          "text": [
            "Mounted at /content/gdrive\n"
          ]
        }
      ],
      "source": [
        "from google.colab import drive\n",
        "\n",
        "drive.mount('/content/gdrive')"
      ]
    },
    {
      "cell_type": "markdown",
      "metadata": {
        "id": "vDIK54VpO6ln"
      },
      "source": [
        "# Market Analysis: Grocery Store Purchases \n"
      ]
    },
    {
      "cell_type": "markdown",
      "metadata": {
        "id": "cWDFgiz3MRfR"
      },
      "source": [
        "\n",
        "by Cheryl Anderson \n",
        "\n",
        "October 2022"
      ]
    },
    {
      "cell_type": "markdown",
      "metadata": {
        "id": "NUXEri1EkHyH"
      },
      "source": [
        "##Process"
      ]
    },
    {
      "cell_type": "markdown",
      "metadata": {
        "id": "b6uW3JZDMpn3"
      },
      "source": [
        "**Dataset:** https://www.kaggle.com/datasets/jackdaoud/marketing-data\n",
        "\n",
        "**Goal:** This project contains critical information about consumer habits regarding online grocery purchases. Our goal is to look at the factors which contribute to the highest amount of purchases. \n",
        "\n",
        "**Null Hypothesis:** The factor(s) do not have a statistically signficant impact on higher purchases.\n",
        "\n",
        "**Alternative Hypothesis:** The factor(s) do have a statistically significant impact on higer purchases. \n",
        "\n",
        "**Process:** The data is collected over a period of 2 years. Using statistical analysis in Python, we will investigagte which factors influence purchases the most, taking into account statistical correlation and p-value to determine the most valuable demographics to target in advertising. "
      ]
    },
    {
      "cell_type": "code",
      "execution_count": 2,
      "metadata": {
        "id": "BdLbi6g9Lfjf"
      },
      "outputs": [],
      "source": [
        "import pandas as pd\n",
        "import matplotlib.pyplot as plt\n",
        "import seaborn as sns\n",
        "import math\n",
        "from scipy.stats.stats import ttest_ind\n",
        "from scipy import stats\n",
        "sns.set()\n",
        "from google.colab import drive\n",
        "import warnings\n",
        "\n",
        "warnings.filterwarnings('ignore')"
      ]
    },
    {
      "cell_type": "code",
      "execution_count": 3,
      "metadata": {
        "colab": {
          "base_uri": "https://localhost:8080/",
          "height": 317
        },
        "id": "J5yXZv8YLj0F",
        "outputId": "6a4f67be-e2d6-4baf-f09f-690ef2009596"
      },
      "outputs": [
        {
          "output_type": "execute_result",
          "data": {
            "text/plain": [
              "   Income  Kidhome  Teenhome  Recency  MntWines  MntFruits  MntMeatProducts  \\\n",
              "0   58138        0         0       58       635         88              546   \n",
              "1   46344        1         1       38        11          1                6   \n",
              "2   71613        0         0       26       426         49              127   \n",
              "3   26646        1         0       26        11          4               20   \n",
              "4   58293        1         0       94       173         43              118   \n",
              "\n",
              "   MntFishProducts  MntSweetProducts  MntGoldProds  ...  marital_Together  \\\n",
              "0              172                88            88  ...                 0   \n",
              "1                2                 1             6  ...                 0   \n",
              "2              111                21            42  ...                 1   \n",
              "3               10                 3             5  ...                 1   \n",
              "4               46                27            15  ...                 0   \n",
              "\n",
              "   marital_Widow  education_2n Cycle  education_Basic  education_Graduation  \\\n",
              "0              0                   0                0                     1   \n",
              "1              0                   0                0                     1   \n",
              "2              0                   0                0                     1   \n",
              "3              0                   0                0                     1   \n",
              "4              0                   0                0                     0   \n",
              "\n",
              "   education_Master  education_PhD  MntTotal  MntRegularProds  \\\n",
              "0                 0              0      1529             1441   \n",
              "1                 0              0        21               15   \n",
              "2                 0              0       734              692   \n",
              "3                 0              0        48               43   \n",
              "4                 0              1       407              392   \n",
              "\n",
              "   AcceptedCmpOverall  \n",
              "0                   0  \n",
              "1                   0  \n",
              "2                   0  \n",
              "3                   0  \n",
              "4                   0  \n",
              "\n",
              "[5 rows x 39 columns]"
            ],
            "text/html": [
              "\n",
              "  <div id=\"df-da97a21f-f1e3-4948-b1a3-5adb1eda26e0\">\n",
              "    <div class=\"colab-df-container\">\n",
              "      <div>\n",
              "<style scoped>\n",
              "    .dataframe tbody tr th:only-of-type {\n",
              "        vertical-align: middle;\n",
              "    }\n",
              "\n",
              "    .dataframe tbody tr th {\n",
              "        vertical-align: top;\n",
              "    }\n",
              "\n",
              "    .dataframe thead th {\n",
              "        text-align: right;\n",
              "    }\n",
              "</style>\n",
              "<table border=\"1\" class=\"dataframe\">\n",
              "  <thead>\n",
              "    <tr style=\"text-align: right;\">\n",
              "      <th></th>\n",
              "      <th>Income</th>\n",
              "      <th>Kidhome</th>\n",
              "      <th>Teenhome</th>\n",
              "      <th>Recency</th>\n",
              "      <th>MntWines</th>\n",
              "      <th>MntFruits</th>\n",
              "      <th>MntMeatProducts</th>\n",
              "      <th>MntFishProducts</th>\n",
              "      <th>MntSweetProducts</th>\n",
              "      <th>MntGoldProds</th>\n",
              "      <th>...</th>\n",
              "      <th>marital_Together</th>\n",
              "      <th>marital_Widow</th>\n",
              "      <th>education_2n Cycle</th>\n",
              "      <th>education_Basic</th>\n",
              "      <th>education_Graduation</th>\n",
              "      <th>education_Master</th>\n",
              "      <th>education_PhD</th>\n",
              "      <th>MntTotal</th>\n",
              "      <th>MntRegularProds</th>\n",
              "      <th>AcceptedCmpOverall</th>\n",
              "    </tr>\n",
              "  </thead>\n",
              "  <tbody>\n",
              "    <tr>\n",
              "      <th>0</th>\n",
              "      <td>58138</td>\n",
              "      <td>0</td>\n",
              "      <td>0</td>\n",
              "      <td>58</td>\n",
              "      <td>635</td>\n",
              "      <td>88</td>\n",
              "      <td>546</td>\n",
              "      <td>172</td>\n",
              "      <td>88</td>\n",
              "      <td>88</td>\n",
              "      <td>...</td>\n",
              "      <td>0</td>\n",
              "      <td>0</td>\n",
              "      <td>0</td>\n",
              "      <td>0</td>\n",
              "      <td>1</td>\n",
              "      <td>0</td>\n",
              "      <td>0</td>\n",
              "      <td>1529</td>\n",
              "      <td>1441</td>\n",
              "      <td>0</td>\n",
              "    </tr>\n",
              "    <tr>\n",
              "      <th>1</th>\n",
              "      <td>46344</td>\n",
              "      <td>1</td>\n",
              "      <td>1</td>\n",
              "      <td>38</td>\n",
              "      <td>11</td>\n",
              "      <td>1</td>\n",
              "      <td>6</td>\n",
              "      <td>2</td>\n",
              "      <td>1</td>\n",
              "      <td>6</td>\n",
              "      <td>...</td>\n",
              "      <td>0</td>\n",
              "      <td>0</td>\n",
              "      <td>0</td>\n",
              "      <td>0</td>\n",
              "      <td>1</td>\n",
              "      <td>0</td>\n",
              "      <td>0</td>\n",
              "      <td>21</td>\n",
              "      <td>15</td>\n",
              "      <td>0</td>\n",
              "    </tr>\n",
              "    <tr>\n",
              "      <th>2</th>\n",
              "      <td>71613</td>\n",
              "      <td>0</td>\n",
              "      <td>0</td>\n",
              "      <td>26</td>\n",
              "      <td>426</td>\n",
              "      <td>49</td>\n",
              "      <td>127</td>\n",
              "      <td>111</td>\n",
              "      <td>21</td>\n",
              "      <td>42</td>\n",
              "      <td>...</td>\n",
              "      <td>1</td>\n",
              "      <td>0</td>\n",
              "      <td>0</td>\n",
              "      <td>0</td>\n",
              "      <td>1</td>\n",
              "      <td>0</td>\n",
              "      <td>0</td>\n",
              "      <td>734</td>\n",
              "      <td>692</td>\n",
              "      <td>0</td>\n",
              "    </tr>\n",
              "    <tr>\n",
              "      <th>3</th>\n",
              "      <td>26646</td>\n",
              "      <td>1</td>\n",
              "      <td>0</td>\n",
              "      <td>26</td>\n",
              "      <td>11</td>\n",
              "      <td>4</td>\n",
              "      <td>20</td>\n",
              "      <td>10</td>\n",
              "      <td>3</td>\n",
              "      <td>5</td>\n",
              "      <td>...</td>\n",
              "      <td>1</td>\n",
              "      <td>0</td>\n",
              "      <td>0</td>\n",
              "      <td>0</td>\n",
              "      <td>1</td>\n",
              "      <td>0</td>\n",
              "      <td>0</td>\n",
              "      <td>48</td>\n",
              "      <td>43</td>\n",
              "      <td>0</td>\n",
              "    </tr>\n",
              "    <tr>\n",
              "      <th>4</th>\n",
              "      <td>58293</td>\n",
              "      <td>1</td>\n",
              "      <td>0</td>\n",
              "      <td>94</td>\n",
              "      <td>173</td>\n",
              "      <td>43</td>\n",
              "      <td>118</td>\n",
              "      <td>46</td>\n",
              "      <td>27</td>\n",
              "      <td>15</td>\n",
              "      <td>...</td>\n",
              "      <td>0</td>\n",
              "      <td>0</td>\n",
              "      <td>0</td>\n",
              "      <td>0</td>\n",
              "      <td>0</td>\n",
              "      <td>0</td>\n",
              "      <td>1</td>\n",
              "      <td>407</td>\n",
              "      <td>392</td>\n",
              "      <td>0</td>\n",
              "    </tr>\n",
              "  </tbody>\n",
              "</table>\n",
              "<p>5 rows × 39 columns</p>\n",
              "</div>\n",
              "      <button class=\"colab-df-convert\" onclick=\"convertToInteractive('df-da97a21f-f1e3-4948-b1a3-5adb1eda26e0')\"\n",
              "              title=\"Convert this dataframe to an interactive table.\"\n",
              "              style=\"display:none;\">\n",
              "        \n",
              "  <svg xmlns=\"http://www.w3.org/2000/svg\" height=\"24px\"viewBox=\"0 0 24 24\"\n",
              "       width=\"24px\">\n",
              "    <path d=\"M0 0h24v24H0V0z\" fill=\"none\"/>\n",
              "    <path d=\"M18.56 5.44l.94 2.06.94-2.06 2.06-.94-2.06-.94-.94-2.06-.94 2.06-2.06.94zm-11 1L8.5 8.5l.94-2.06 2.06-.94-2.06-.94L8.5 2.5l-.94 2.06-2.06.94zm10 10l.94 2.06.94-2.06 2.06-.94-2.06-.94-.94-2.06-.94 2.06-2.06.94z\"/><path d=\"M17.41 7.96l-1.37-1.37c-.4-.4-.92-.59-1.43-.59-.52 0-1.04.2-1.43.59L10.3 9.45l-7.72 7.72c-.78.78-.78 2.05 0 2.83L4 21.41c.39.39.9.59 1.41.59.51 0 1.02-.2 1.41-.59l7.78-7.78 2.81-2.81c.8-.78.8-2.07 0-2.86zM5.41 20L4 18.59l7.72-7.72 1.47 1.35L5.41 20z\"/>\n",
              "  </svg>\n",
              "      </button>\n",
              "      \n",
              "  <style>\n",
              "    .colab-df-container {\n",
              "      display:flex;\n",
              "      flex-wrap:wrap;\n",
              "      gap: 12px;\n",
              "    }\n",
              "\n",
              "    .colab-df-convert {\n",
              "      background-color: #E8F0FE;\n",
              "      border: none;\n",
              "      border-radius: 50%;\n",
              "      cursor: pointer;\n",
              "      display: none;\n",
              "      fill: #1967D2;\n",
              "      height: 32px;\n",
              "      padding: 0 0 0 0;\n",
              "      width: 32px;\n",
              "    }\n",
              "\n",
              "    .colab-df-convert:hover {\n",
              "      background-color: #E2EBFA;\n",
              "      box-shadow: 0px 1px 2px rgba(60, 64, 67, 0.3), 0px 1px 3px 1px rgba(60, 64, 67, 0.15);\n",
              "      fill: #174EA6;\n",
              "    }\n",
              "\n",
              "    [theme=dark] .colab-df-convert {\n",
              "      background-color: #3B4455;\n",
              "      fill: #D2E3FC;\n",
              "    }\n",
              "\n",
              "    [theme=dark] .colab-df-convert:hover {\n",
              "      background-color: #434B5C;\n",
              "      box-shadow: 0px 1px 3px 1px rgba(0, 0, 0, 0.15);\n",
              "      filter: drop-shadow(0px 1px 2px rgba(0, 0, 0, 0.3));\n",
              "      fill: #FFFFFF;\n",
              "    }\n",
              "  </style>\n",
              "\n",
              "      <script>\n",
              "        const buttonEl =\n",
              "          document.querySelector('#df-da97a21f-f1e3-4948-b1a3-5adb1eda26e0 button.colab-df-convert');\n",
              "        buttonEl.style.display =\n",
              "          google.colab.kernel.accessAllowed ? 'block' : 'none';\n",
              "\n",
              "        async function convertToInteractive(key) {\n",
              "          const element = document.querySelector('#df-da97a21f-f1e3-4948-b1a3-5adb1eda26e0');\n",
              "          const dataTable =\n",
              "            await google.colab.kernel.invokeFunction('convertToInteractive',\n",
              "                                                     [key], {});\n",
              "          if (!dataTable) return;\n",
              "\n",
              "          const docLinkHtml = 'Like what you see? Visit the ' +\n",
              "            '<a target=\"_blank\" href=https://colab.research.google.com/notebooks/data_table.ipynb>data table notebook</a>'\n",
              "            + ' to learn more about interactive tables.';\n",
              "          element.innerHTML = '';\n",
              "          dataTable['output_type'] = 'display_data';\n",
              "          await google.colab.output.renderOutput(dataTable, element);\n",
              "          const docLink = document.createElement('div');\n",
              "          docLink.innerHTML = docLinkHtml;\n",
              "          element.appendChild(docLink);\n",
              "        }\n",
              "      </script>\n",
              "    </div>\n",
              "  </div>\n",
              "  "
            ]
          },
          "metadata": {},
          "execution_count": 3
        }
      ],
      "source": [
        "import pandas as pd\n",
        "market_df=pd.read_csv('/content/gdrive/My Drive/ifood_df.csv')\n",
        "\n",
        "market_df.head()"
      ]
    },
    {
      "cell_type": "code",
      "execution_count": 3,
      "metadata": {
        "id": "hQa5SosSL52R"
      },
      "outputs": [],
      "source": []
    },
    {
      "cell_type": "code",
      "execution_count": 4,
      "metadata": {
        "colab": {
          "base_uri": "https://localhost:8080/"
        },
        "id": "XiQ6IbGQL6TF",
        "outputId": "1fa562e9-db01-43dd-a97e-21344038cc31"
      },
      "outputs": [
        {
          "output_type": "execute_result",
          "data": {
            "text/plain": [
              "(2205, 39)"
            ]
          },
          "metadata": {},
          "execution_count": 4
        }
      ],
      "source": [
        "market_df.shape"
      ]
    },
    {
      "cell_type": "code",
      "execution_count": 5,
      "metadata": {
        "colab": {
          "base_uri": "https://localhost:8080/"
        },
        "id": "8xD4cRXRL_Mu",
        "outputId": "8e4495e6-07dd-4d70-92ff-b41b3b1aae55"
      },
      "outputs": [
        {
          "output_type": "stream",
          "name": "stdout",
          "text": [
            "<class 'pandas.core.frame.DataFrame'>\n",
            "RangeIndex: 2205 entries, 0 to 2204\n",
            "Data columns (total 39 columns):\n",
            " #   Column                Non-Null Count  Dtype\n",
            "---  ------                --------------  -----\n",
            " 0   Income                2205 non-null   int64\n",
            " 1   Kidhome               2205 non-null   int64\n",
            " 2   Teenhome              2205 non-null   int64\n",
            " 3   Recency               2205 non-null   int64\n",
            " 4   MntWines              2205 non-null   int64\n",
            " 5   MntFruits             2205 non-null   int64\n",
            " 6   MntMeatProducts       2205 non-null   int64\n",
            " 7   MntFishProducts       2205 non-null   int64\n",
            " 8   MntSweetProducts      2205 non-null   int64\n",
            " 9   MntGoldProds          2205 non-null   int64\n",
            " 10  NumDealsPurchases     2205 non-null   int64\n",
            " 11  NumWebPurchases       2205 non-null   int64\n",
            " 12  NumCatalogPurchases   2205 non-null   int64\n",
            " 13  NumStorePurchases     2205 non-null   int64\n",
            " 14  NumWebVisitsMonth     2205 non-null   int64\n",
            " 15  AcceptedCmp3          2205 non-null   int64\n",
            " 16  AcceptedCmp4          2205 non-null   int64\n",
            " 17  AcceptedCmp5          2205 non-null   int64\n",
            " 18  AcceptedCmp1          2205 non-null   int64\n",
            " 19  AcceptedCmp2          2205 non-null   int64\n",
            " 20  Complain              2205 non-null   int64\n",
            " 21  Z_CostContact         2205 non-null   int64\n",
            " 22  Z_Revenue             2205 non-null   int64\n",
            " 23  Response              2205 non-null   int64\n",
            " 24  Age                   2205 non-null   int64\n",
            " 25  Customer_Days         2205 non-null   int64\n",
            " 26  marital_Divorced      2205 non-null   int64\n",
            " 27  marital_Married       2205 non-null   int64\n",
            " 28  marital_Single        2205 non-null   int64\n",
            " 29  marital_Together      2205 non-null   int64\n",
            " 30  marital_Widow         2205 non-null   int64\n",
            " 31  education_2n Cycle    2205 non-null   int64\n",
            " 32  education_Basic       2205 non-null   int64\n",
            " 33  education_Graduation  2205 non-null   int64\n",
            " 34  education_Master      2205 non-null   int64\n",
            " 35  education_PhD         2205 non-null   int64\n",
            " 36  MntTotal              2205 non-null   int64\n",
            " 37  MntRegularProds       2205 non-null   int64\n",
            " 38  AcceptedCmpOverall    2205 non-null   int64\n",
            "dtypes: int64(39)\n",
            "memory usage: 672.0 KB\n"
          ]
        }
      ],
      "source": [
        "market_df.info()"
      ]
    },
    {
      "cell_type": "markdown",
      "metadata": {
        "id": "pl1y4CZ1Nezs"
      },
      "source": [
        "There are 39 columns of very important information about our consumer's purchases. First, let's look at income.\n"
      ]
    },
    {
      "cell_type": "markdown",
      "metadata": {
        "id": "WBfewcc7Owkv"
      },
      "source": [
        "# Income\n"
      ]
    },
    {
      "cell_type": "markdown",
      "metadata": {
        "id": "murbSJ_0PLeY"
      },
      "source": [
        "##Statistical Analysis\n",
        "**Null Hypothesis:** Income does not have a statistically significant influence on customer's purchase habits. \n",
        "\n",
        "**Alternative Hypothesis:** Income does have a statistically significant influence on customer's purchase habits.\n",
        "\n",
        "Let's investigate the relationship between 'Income' and 'NumStorePurchases,' or the number of purchases made by each consumer.  "
      ]
    },
    {
      "cell_type": "code",
      "execution_count": 6,
      "metadata": {
        "id": "vr7FvcqOOHv9"
      },
      "outputs": [],
      "source": [
        "#Get statistics on Income. \n"
      ]
    },
    {
      "cell_type": "code",
      "execution_count": 7,
      "metadata": {
        "colab": {
          "base_uri": "https://localhost:8080/"
        },
        "id": "HhKZX9gaXyAh",
        "outputId": "84430b52-c955-42a4-db70-26afd94b5ad6"
      },
      "outputs": [
        {
          "output_type": "execute_result",
          "data": {
            "text/plain": [
              "count      2205.000000\n",
              "mean      51622.094785\n",
              "std       20713.063826\n",
              "min        1730.000000\n",
              "25%       35196.000000\n",
              "50%       51287.000000\n",
              "75%       68281.000000\n",
              "max      113734.000000\n",
              "Name: Income, dtype: float64"
            ]
          },
          "metadata": {},
          "execution_count": 7
        }
      ],
      "source": [
        "market_df['Income'].describe()"
      ]
    },
    {
      "cell_type": "markdown",
      "metadata": {
        "id": "tT7gIlQtYie2"
      },
      "source": [
        "The mean income for this dataset is 51,622, with more than 50% of the population making between 51,287 to 68,281.\n",
        "\n",
        "Now let's look at correlations between 'Income' and 'NumStorePurchases.'"
      ]
    },
    {
      "cell_type": "code",
      "execution_count": 8,
      "metadata": {
        "colab": {
          "base_uri": "https://localhost:8080/"
        },
        "id": "oW1QP1DqdvSI",
        "outputId": "15a33133-32d0-4d5b-82c7-3b0bde58eb0d"
      },
      "outputs": [
        {
          "output_type": "execute_result",
          "data": {
            "text/plain": [
              "0.687205716297932"
            ]
          },
          "metadata": {},
          "execution_count": 8
        }
      ],
      "source": [
        "market_df['Income'].corr(market_df['NumStorePurchases'])"
      ]
    },
    {
      "cell_type": "markdown",
      "metadata": {
        "id": "aseWubzGeAPr"
      },
      "source": [
        "The correlation is close to 1, so there is a positive relationship between these two factors. Let's do a statistical test to determine a p-value. "
      ]
    },
    {
      "cell_type": "code",
      "execution_count": 9,
      "metadata": {
        "colab": {
          "base_uri": "https://localhost:8080/"
        },
        "id": "RpGMFdqveEeM",
        "outputId": "edbcc92d-05ad-4167-9ffe-fc3d51499ba8"
      },
      "outputs": [
        {
          "output_type": "execute_result",
          "data": {
            "text/plain": [
              "(0.687205716297932, 4.428408588774628e-308)"
            ]
          },
          "metadata": {},
          "execution_count": 9
        }
      ],
      "source": [
        "from scipy import stats\n",
        "stats.pearsonr(market_df['Income'], market_df['NumStorePurchases'])"
      ]
    },
    {
      "cell_type": "markdown",
      "metadata": {
        "id": "4Az9KxAZfURP"
      },
      "source": [
        "**Alternative Hypothesis is Correct:** The p-value is very small, and negative. This indicates that the lower the income, the less purchases are made. This is logical, but let's put some visuals to it so we can see where best to stack our advertising budget for this demographic. "
      ]
    },
    {
      "cell_type": "markdown",
      "metadata": {
        "id": "MmbNRMi6g38k"
      },
      "source": [
        "##Visualizations"
      ]
    },
    {
      "cell_type": "code",
      "execution_count": 10,
      "metadata": {
        "colab": {
          "base_uri": "https://localhost:8080/",
          "height": 285
        },
        "id": "6LcCcEzvfvnI",
        "outputId": "911434ca-c0c5-4fb5-aad1-c9d892f344e2"
      },
      "outputs": [
        {
          "output_type": "display_data",
          "data": {
            "text/plain": [
              "<Figure size 432x288 with 1 Axes>"
            ],
            "image/png": "[encoded data removed]"
          },
          "metadata": {}
        }
      ],
      "source": [
        "import seaborn as sns\n",
        "sns.boxplot(y='Income', x= 'NumStorePurchases', data=market_df)\n",
        "plt.ioff()"
      ]
    },
    {
      "cell_type": "markdown",
      "metadata": {
        "id": "fMsqA10phoQ8"
      },
      "source": [
        "##Recommendation\n",
        "\n",
        "The higher number of purchases comes from the Incomes between 51K-68K per year. Target marketing towards this demographic.  "
      ]
    },
    {
      "cell_type": "markdown",
      "metadata": {
        "id": "pf0AH_wZiWlj"
      },
      "source": [
        "# Number of Small Children in Household\n",
        "\n",
        "The number of small children in the household is represented by the column 'Kidhome.' Let's investigate this column of data to learn more."
      ]
    },
    {
      "cell_type": "markdown",
      "metadata": {
        "id": "AtxJXIrvjbzg"
      },
      "source": [
        "##Statistical Analysis\n",
        "\n",
        "**Null Hypothesis:** There is no statistically significant relationship between number of small children in the household ('Kidhome') and number of store purchases ('NumStorePurchases')\n",
        "\n",
        "**Alternative Hypothesis:** There is a statistically significant relationship between number of small children in the household ('Kidhome') and number of store purchases ('NumStorePurchases')"
      ]
    },
    {
      "cell_type": "code",
      "execution_count": 11,
      "metadata": {
        "colab": {
          "base_uri": "https://localhost:8080/"
        },
        "id": "wSpX2vlBiZKE",
        "outputId": "9180dbfc-1521-45ac-bdf9-43bad5605767"
      },
      "outputs": [
        {
          "output_type": "execute_result",
          "data": {
            "text/plain": [
              "count    2205.000000\n",
              "mean        0.442177\n",
              "std         0.537132\n",
              "min         0.000000\n",
              "25%         0.000000\n",
              "50%         0.000000\n",
              "75%         1.000000\n",
              "max         2.000000\n",
              "Name: Kidhome, dtype: float64"
            ]
          },
          "metadata": {},
          "execution_count": 11
        }
      ],
      "source": [
        "market_df['Kidhome'].describe()"
      ]
    },
    {
      "cell_type": "markdown",
      "metadata": {
        "id": "sLaOK1qojRxw"
      },
      "source": [
        "75% of the costumers in this dataset have 1 child at home. This can be a very important factor on number of store purchases. Let's see if there is a correlation. "
      ]
    },
    {
      "cell_type": "code",
      "execution_count": 12,
      "metadata": {
        "colab": {
          "base_uri": "https://localhost:8080/"
        },
        "id": "mq6H-P5ikjom",
        "outputId": "b3c8c18f-8bd5-44d9-ad71-cd012fb30388"
      },
      "outputs": [
        {
          "output_type": "execute_result",
          "data": {
            "text/plain": [
              "-0.506543168133882"
            ]
          },
          "metadata": {},
          "execution_count": 12
        }
      ],
      "source": [
        "market_df['Kidhome'].corr(market_df['NumStorePurchases'])"
      ]
    },
    {
      "cell_type": "markdown",
      "metadata": {
        "id": "7AbbWYJkk7WU"
      },
      "source": [
        "The statistical correlation is close to -1, therefore there is a relationship, and it is negative. It is likely that those who have small children do not have as many store purchases. Let's do a pearsonr test to determine the p-value to make sure. "
      ]
    },
    {
      "cell_type": "code",
      "execution_count": 13,
      "metadata": {
        "colab": {
          "base_uri": "https://localhost:8080/"
        },
        "id": "-o0jtEq0lNX5",
        "outputId": "c401ec89-d014-4e52-85ec-7625e7c4eeeb"
      },
      "outputs": [
        {
          "output_type": "execute_result",
          "data": {
            "text/plain": [
              "(-0.5065431681338823, 4.851382514503082e-144)"
            ]
          },
          "metadata": {},
          "execution_count": 13
        }
      ],
      "source": [
        "stats.pearsonr(market_df['Kidhome'], market_df['NumStorePurchases'])"
      ]
    },
    {
      "cell_type": "markdown",
      "metadata": {
        "id": "YqQr310tlXxL"
      },
      "source": [
        "**Alternative Hypothesis is Correct:** The p-value is very small, and negative. This indicates that the fewer children are in the home, the *more* purchases are made. This is logical, but let's put some visuals to it so we can see where best to stack our advertising budget for this demographic. "
      ]
    },
    {
      "cell_type": "markdown",
      "metadata": {
        "id": "B2kYVsvIlpz3"
      },
      "source": [
        "##Visualizations"
      ]
    },
    {
      "cell_type": "code",
      "execution_count": 14,
      "metadata": {
        "colab": {
          "base_uri": "https://localhost:8080/",
          "height": 286
        },
        "id": "jUVfdoA1lnKZ",
        "outputId": "7d1f9d3e-95fe-4758-e4b3-5c739ed85303"
      },
      "outputs": [
        {
          "output_type": "display_data",
          "data": {
            "text/plain": [
              "<Figure size 432x288 with 1 Axes>"
            ],
            "image/png": "[encoded data removed]"
          },
          "metadata": {}
        }
      ],
      "source": [
        "sns.lineplot(y='Kidhome', x= 'NumStorePurchases', data=market_df)\n",
        "plt.ioff()"
      ]
    },
    {
      "cell_type": "markdown",
      "metadata": {
        "id": "nGF7WCPz-8q7"
      },
      "source": [
        "## Recommendation \n",
        "\n",
        "Households with no small children have more purchases overall than households with small children. Of the households with small children, the houses with 1 small child had greater purchases than those with more than one child. Households with no small children are the demographic to target to drive sales for this market."
      ]
    },
    {
      "cell_type": "code",
      "execution_count": 14,
      "metadata": {
        "id": "lI_h-YQd_B63"
      },
      "outputs": [],
      "source": []
    },
    {
      "cell_type": "markdown",
      "metadata": {
        "id": "BfJ_06_Q_mcN"
      },
      "source": [
        "# Number of Teenagers in Household\n"
      ]
    },
    {
      "cell_type": "markdown",
      "metadata": {
        "id": "ZWnossOyAGOK"
      },
      "source": [
        "##Statistical Analysis\n",
        "\n",
        "**Null Hypothesis:** The number of teenagers in household ('Teenhome') does not have an impact on number of store purchased ('NumStorePurchases')\n",
        "**Alternative Hypothesis:** The number of teenagers in household ('Teenhome') does have an impact on number of store purchased ('NumStorePurchases')"
      ]
    },
    {
      "cell_type": "code",
      "execution_count": 15,
      "metadata": {
        "colab": {
          "base_uri": "https://localhost:8080/"
        },
        "id": "Nlt-wEElAIXT",
        "outputId": "1aa42a54-c3f3-403d-9b7b-19939ae7b1e0"
      },
      "outputs": [
        {
          "output_type": "execute_result",
          "data": {
            "text/plain": [
              "count    2205.000000\n",
              "mean        0.506576\n",
              "std         0.544380\n",
              "min         0.000000\n",
              "25%         0.000000\n",
              "50%         0.000000\n",
              "75%         1.000000\n",
              "max         2.000000\n",
              "Name: Teenhome, dtype: float64"
            ]
          },
          "metadata": {},
          "execution_count": 15
        }
      ],
      "source": [
        "market_df['Teenhome'].describe()"
      ]
    },
    {
      "cell_type": "code",
      "execution_count": 16,
      "metadata": {
        "colab": {
          "base_uri": "https://localhost:8080/"
        },
        "id": "nhETb_csA9Uq",
        "outputId": "ee41921a-846c-4551-890f-ccfd20f9f234"
      },
      "outputs": [
        {
          "output_type": "execute_result",
          "data": {
            "text/plain": [
              "0.04732114813553781"
            ]
          },
          "metadata": {},
          "execution_count": 16
        }
      ],
      "source": [
        "market_df['Teenhome'].corr(market_df['NumStorePurchases'])"
      ]
    },
    {
      "cell_type": "markdown",
      "metadata": {
        "id": "eIOXYDyiBGxm"
      },
      "source": [
        "This number is close to 0, indicating there may not be any correlation between teens in the household and number of store purchases. Let's investigate further. "
      ]
    },
    {
      "cell_type": "code",
      "execution_count": 17,
      "metadata": {
        "colab": {
          "base_uri": "https://localhost:8080/"
        },
        "id": "IYaFem_nB0F4",
        "outputId": "58bf5584-6fb9-4b2f-e8eb-2d4b29462ffe"
      },
      "outputs": [
        {
          "output_type": "execute_result",
          "data": {
            "text/plain": [
              "(0.04732114813553772, 0.02627896750707939)"
            ]
          },
          "metadata": {},
          "execution_count": 17
        }
      ],
      "source": [
        "stats.pearsonr(market_df['Teenhome'], market_df['NumStorePurchases'])"
      ]
    },
    {
      "cell_type": "markdown",
      "metadata": {
        "id": "pdkKWXb3CTT8"
      },
      "source": [
        "##Visualizations"
      ]
    },
    {
      "cell_type": "code",
      "execution_count": 18,
      "metadata": {
        "colab": {
          "base_uri": "https://localhost:8080/",
          "height": 285
        },
        "id": "FL1mL4DUCAhl",
        "outputId": "3447da32-e411-4d41-8368-cc74308625e2"
      },
      "outputs": [
        {
          "output_type": "display_data",
          "data": {
            "text/plain": [
              "<Figure size 432x288 with 1 Axes>"
            ],
            "image/png": "[encoded data removed]"
          },
          "metadata": {}
        }
      ],
      "source": [
        "sns.lineplot(y='Teenhome', x= 'NumStorePurchases', data=market_df) \n",
        "plt.ioff()"
      ]
    },
    {
      "cell_type": "markdown",
      "metadata": {
        "id": "aDqSRYPJCKUE"
      },
      "source": [
        "From the above measures, we can conclude that households with less teens in the home make more purchases."
      ]
    },
    {
      "cell_type": "markdown",
      "metadata": {
        "id": "SA51KGvsCRC9"
      },
      "source": [
        "##Recommendation \n",
        "\n",
        "Households with no teenagers tend to have more purchases than households with teenagers. Target our marketing to the demographics with few or no children. This could be a result of income decreasing with number of children increasing. Let's investigate that in our next statistcal analysis. "
      ]
    },
    {
      "cell_type": "markdown",
      "source": [
        "#Income and Households with Kids "
      ],
      "metadata": {
        "id": "KkUI0KyRKCm1"
      }
    },
    {
      "cell_type": "code",
      "source": [
        "stats.pearsonr(market_df['Kidhome'], market_df['Income'])"
      ],
      "metadata": {
        "colab": {
          "base_uri": "https://localhost:8080/"
        },
        "id": "Ww-0LLo8JP3N",
        "outputId": "b426f086-e6f2-4484-86a8-93fa316e991c"
      },
      "execution_count": 19,
      "outputs": [
        {
          "output_type": "execute_result",
          "data": {
            "text/plain": [
              "(-0.5316989197748733, 3.59906334851104e-161)"
            ]
          },
          "metadata": {},
          "execution_count": 19
        }
      ]
    },
    {
      "cell_type": "markdown",
      "source": [
        "##Statistical Analysis\n",
        "**Alternative Hypothesis** is correct: A statistically significant relationship exists between income and households in this dataset who have small children. This is indicated by the small p-Value: 3.59906334851104e-161\n"
      ],
      "metadata": {
        "id": "Pv0yP1kPKLkL"
      }
    },
    {
      "cell_type": "markdown",
      "source": [
        "##Visualizations\n"
      ],
      "metadata": {
        "id": "-YuyfeCNLILA"
      }
    },
    {
      "cell_type": "code",
      "source": [
        "sns.boxplot(y= 'Income', x='Kidhome', data= market_df, hue='Kidhome')\n",
        "plt.ioff()"
      ],
      "metadata": {
        "colab": {
          "base_uri": "https://localhost:8080/",
          "height": 285
        },
        "id": "Imo5T4GMJPao",
        "outputId": "ed9ebfe8-76cd-4950-ffcb-d008d8e5bc88"
      },
      "execution_count": 20,
      "outputs": [
        {
          "output_type": "display_data",
          "data": {
            "text/plain": [
              "<Figure size 432x288 with 1 Axes>"
            ],
            "image/png": "[encoded data removed]"
          },
          "metadata": {}
        }
      ]
    },
    {
      "cell_type": "markdown",
      "source": [
        "As we can see very clearly from this visualization, households with 0 children have the highest incomes. "
      ],
      "metadata": {
        "id": "uG0CYqQxKiv_"
      }
    },
    {
      "cell_type": "markdown",
      "source": [
        "##Recommendation\n",
        "\n",
        "Although households with higher incomes do purchase more goods, let's investigate which goods are purchased by higher income households, and which goods by lower income households. \n",
        "\n"
      ],
      "metadata": {
        "id": "QyksQfHBLWME"
      }
    },
    {
      "cell_type": "markdown",
      "source": [
        "# Product Demographics\n",
        "\n",
        "Our customers have diverse needs. We need to make sure we are catering to all of our loyal customers and not just a select few. Therefore, we need to see who is buying what. This data is amount spent by each customer on each product category over the last 2 years.  Let's take a look. "
      ],
      "metadata": {
        "id": "rkjGJSmYL4mD"
      }
    },
    {
      "cell_type": "markdown",
      "source": [
        "## Wines\n",
        "\n",
        "Our customers love our wine selection, but who is buying what?\n",
        " "
      ],
      "metadata": {
        "id": "QdlSLn0TMURs"
      }
    },
    {
      "cell_type": "markdown",
      "source": [
        "###Income"
      ],
      "metadata": {
        "id": "at-LVcV7UKW6"
      }
    },
    {
      "cell_type": "code",
      "source": [
        "stats.pearsonr(market_df['Income'], market_df['MntWines'])"
      ],
      "metadata": {
        "colab": {
          "base_uri": "https://localhost:8080/"
        },
        "id": "BaBjAoXqUTxF",
        "outputId": "166f65ba-c7f0-4a7d-9fd5-0da8db9f7f96"
      },
      "execution_count": 21,
      "outputs": [
        {
          "output_type": "execute_result",
          "data": {
            "text/plain": [
              "(0.7304951613642853, 0.0)"
            ]
          },
          "metadata": {},
          "execution_count": 21
        }
      ]
    },
    {
      "cell_type": "markdown",
      "source": [
        "**Alternative Hypothesis** is correct, there is a statistically significant relationship between income and the amount of wines purchased over the last two years. "
      ],
      "metadata": {
        "id": "5rMZV7NvUiC5"
      }
    },
    {
      "cell_type": "markdown",
      "source": [
        "###Kids In Household"
      ],
      "metadata": {
        "id": "yrlKmF41dEcl"
      }
    },
    {
      "cell_type": "code",
      "source": [
        "stats.pearsonr(market_df['MntWines'], market_df['Kidhome'])"
      ],
      "metadata": {
        "colab": {
          "base_uri": "https://localhost:8080/"
        },
        "id": "utwgqcrsdCaW",
        "outputId": "2cf8a9f0-b881-4452-870a-a1e572826bd8"
      },
      "execution_count": 22,
      "outputs": [
        {
          "output_type": "execute_result",
          "data": {
            "text/plain": [
              "(-0.4992876090170556, 2.3188425400530166e-139)"
            ]
          },
          "metadata": {},
          "execution_count": 22
        }
      ]
    },
    {
      "cell_type": "markdown",
      "source": [
        "**Alternative Hypothesis** is correct: the number of small children in the household does have a statistically significant relationship to the amount of wine purchases. This is shown by the very small p-value of 2.3188425400530166e-139."
      ],
      "metadata": {
        "id": "jL83V1prehto"
      }
    },
    {
      "cell_type": "code",
      "source": [
        "sns.histplot(y='Income', x='MntWines', hue='Kidhome', data=market_df)\n",
        "plt.ioff()"
      ],
      "metadata": {
        "colab": {
          "base_uri": "https://localhost:8080/",
          "height": 285
        },
        "id": "-OeG9PHCdTWz",
        "outputId": "77299555-5f75-4f50-bff6-fa8de4e02342"
      },
      "execution_count": 55,
      "outputs": [
        {
          "output_type": "display_data",
          "data": {
            "text/plain": [
              "<Figure size 432x288 with 1 Axes>"
            ],
            "image/png": "[encoded data removed]"
          },
          "metadata": {}
        }
      ]
    },
    {
      "cell_type": "markdown",
      "source": [
        "**Conclusions**\n",
        "\n",
        "It looks like customers who bought the most wines over the past two years made above 60,000 per year, but not more than 90,000. So this is a good general demographic. However, many customers bought up to 400 wines from our market in the last 2 years who are in the income bracket between 20,000 and 80,000. \n",
        "\n",
        "The demographics with the most wine purchases within the last two years are households who made between 40k-90k and who had 1 or no children. "
      ],
      "metadata": {
        "id": "LEwtHMYaQO-h"
      }
    },
    {
      "cell_type": "markdown",
      "source": [
        "##Fruits"
      ],
      "metadata": {
        "id": "qywDSZkQMkh3"
      }
    },
    {
      "cell_type": "markdown",
      "source": [
        "###Income\n",
        "\n",
        "Is there a statistically significant relationship between Income and Fruit purchases within the last two years? "
      ],
      "metadata": {
        "id": "CjXoIzvIfxO0"
      }
    },
    {
      "cell_type": "code",
      "source": [
        "stats.pearsonr(market_df['MntFruits'], market_df['Income'])"
      ],
      "metadata": {
        "colab": {
          "base_uri": "https://localhost:8080/"
        },
        "id": "aEgUcXx0hFOq",
        "outputId": "c707df1f-f1b7-40ab-b58d-3abf6af260e1"
      },
      "execution_count": 24,
      "outputs": [
        {
          "output_type": "execute_result",
          "data": {
            "text/plain": [
              "(0.5379202581686492, 1.2373160066764423e-165)"
            ]
          },
          "metadata": {},
          "execution_count": 24
        }
      ]
    },
    {
      "cell_type": "markdown",
      "source": [
        "**Alternative Hypothesis** is correct. The p-value is 1.2373160066764423e-165, which shows there is a statistically significant relationship."
      ],
      "metadata": {
        "id": "peH-cwFFhYwp"
      }
    },
    {
      "cell_type": "code",
      "source": [
        "sns.histplot(y='Income', x='MntFruits', data=market_df)"
      ],
      "metadata": {
        "colab": {
          "base_uri": "https://localhost:8080/",
          "height": 303
        },
        "id": "2q_9ljUNhzJI",
        "outputId": "d21c1c04-dec5-4adb-da04-8d35103d79d2"
      },
      "execution_count": 25,
      "outputs": [
        {
          "output_type": "execute_result",
          "data": {
            "text/plain": [
              "<matplotlib.axes._subplots.AxesSubplot at 0x7ff63624c290>"
            ]
          },
          "metadata": {},
          "execution_count": 25
        },
        {
          "output_type": "display_data",
          "data": {
            "text/plain": [
              "<Figure size 432x288 with 1 Axes>"
            ],
            "image/png": "[encoded data removed]"
          },
          "metadata": {}
        }
      ]
    },
    {
      "cell_type": "markdown",
      "source": [
        "This chart shows that the customers with salaries of 40,000-80,000 have higher purchases of fruits."
      ],
      "metadata": {
        "id": "sRUlJ6lsBuP5"
      }
    },
    {
      "cell_type": "markdown",
      "source": [
        "###Kids in Household"
      ],
      "metadata": {
        "id": "Eya-Pol-fzFl"
      }
    },
    {
      "cell_type": "markdown",
      "source": [
        "How do kids in the household impact amount of fruit purchases? "
      ],
      "metadata": {
        "id": "3HjyXQvFk7LK"
      }
    },
    {
      "cell_type": "code",
      "source": [
        "stats.pearsonr(market_df['MntFruits'], market_df['Kidhome'])"
      ],
      "metadata": {
        "colab": {
          "base_uri": "https://localhost:8080/"
        },
        "id": "KUKpADZXiGvG",
        "outputId": "42331377-5a1b-4ed0-a7e8-5a2a749686e9"
      },
      "execution_count": 26,
      "outputs": [
        {
          "output_type": "execute_result",
          "data": {
            "text/plain": [
              "(-0.37438831245187026, 2.589526291908305e-74)"
            ]
          },
          "metadata": {},
          "execution_count": 26
        }
      ]
    },
    {
      "cell_type": "markdown",
      "source": [
        "**Alternative Hypothesis** is correct: there is a statistically significant relationship between kids in the household and amount of fruits bought. It is a negative relationship. "
      ],
      "metadata": {
        "id": "X_NJRSSWkwhg"
      }
    },
    {
      "cell_type": "code",
      "source": [
        "sns.histplot(x='MntFruits', y='Income', hue='Kidhome', data=market_df)\n",
        "plt.ioff()"
      ],
      "metadata": {
        "colab": {
          "base_uri": "https://localhost:8080/",
          "height": 285
        },
        "id": "r69BK2sKiG-H",
        "outputId": "9eff3d5d-d876-4b95-dc3b-fe6f2ade8848"
      },
      "execution_count": 53,
      "outputs": [
        {
          "output_type": "display_data",
          "data": {
            "text/plain": [
              "<Figure size 432x288 with 1 Axes>"
            ],
            "image/png": "[encoded data removed]"
          },
          "metadata": {}
        }
      ]
    },
    {
      "cell_type": "markdown",
      "source": [
        "The above graph shows the income, amount of fruits bought, and the number of small children in the households of our customers over the last 2 years. "
      ],
      "metadata": {
        "id": "-BWTRRqulTtb"
      }
    },
    {
      "cell_type": "markdown",
      "source": [
        "**Conclusions** Fruit products are vitally important for growing families, but the data is showing that our customers buy less fruit with the more numbers of kids they have. This could be due to a deficit in lower-cost fruit products, which may be something to consider for our stores.\n",
        "\n",
        "Overall, those customers with a higher income and fewer children purchased more fruits than those with a lower income and more children. "
      ],
      "metadata": {
        "id": "0RhyZT-A9fnx"
      }
    },
    {
      "cell_type": "code",
      "source": [],
      "metadata": {
        "id": "ySW-sHk4MvAp"
      },
      "execution_count": 40,
      "outputs": []
    },
    {
      "cell_type": "markdown",
      "source": [
        "##Meat\n",
        "\n",
        "Let's look at how Income and Kids in the Household affect our customer's Meat buying purchases. "
      ],
      "metadata": {
        "id": "FN5i5CTbMpoH"
      }
    },
    {
      "cell_type": "markdown",
      "source": [
        "###Income"
      ],
      "metadata": {
        "id": "ksohuzRUiwg0"
      }
    },
    {
      "cell_type": "code",
      "source": [
        "stats.pearsonr(market_df['Income'], market_df['MntMeatProducts'])"
      ],
      "metadata": {
        "colab": {
          "base_uri": "https://localhost:8080/"
        },
        "id": "mtjK2q0RllqJ",
        "outputId": "72c291ae-d761-4c23-e9d9-1cf28eab0564"
      },
      "execution_count": 28,
      "outputs": [
        {
          "output_type": "execute_result",
          "data": {
            "text/plain": [
              "(0.7024996196456793, 0.0)"
            ]
          },
          "metadata": {},
          "execution_count": 28
        }
      ]
    },
    {
      "cell_type": "markdown",
      "source": [
        "We have a p-value of zero, and a statistical value that is close to 1, so we have a statistically significant positive relationship between Income and Meat product purchases over the last two years. **Alternative Hypothesis** is correct."
      ],
      "metadata": {
        "id": "bvID36s1oF6t"
      }
    },
    {
      "cell_type": "code",
      "source": [
        "sns.histplot(x='MntMeatProducts', y= 'Income', data= market_df)"
      ],
      "metadata": {
        "id": "96hjV-hhMxFy",
        "colab": {
          "base_uri": "https://localhost:8080/",
          "height": 303
        },
        "outputId": "df7a240c-c943-4a4b-9162-ff5b040e3a8b"
      },
      "execution_count": 44,
      "outputs": [
        {
          "output_type": "execute_result",
          "data": {
            "text/plain": [
              "<matplotlib.axes._subplots.AxesSubplot at 0x7ff6292153d0>"
            ]
          },
          "metadata": {},
          "execution_count": 44
        },
        {
          "output_type": "display_data",
          "data": {
            "text/plain": [
              "<Figure size 432x288 with 1 Axes>"
            ],
            "image/png": "[encoded data removed]"
          },
          "metadata": {}
        }
      ]
    },
    {
      "cell_type": "markdown",
      "source": [
        "This chart shows a positive relationship between our customer's Income and Meat product purchases. Incomes between 60,000-100,000 per year purchased the most meat products. "
      ],
      "metadata": {
        "id": "dNAiVK62-rsS"
      }
    },
    {
      "cell_type": "markdown",
      "source": [
        "###Kids in Household\n"
      ],
      "metadata": {
        "id": "bxl1yZOEiyMV"
      }
    },
    {
      "cell_type": "code",
      "source": [
        "stats.pearsonr(market_df['MntMeatProducts'], market_df['Kidhome'])"
      ],
      "metadata": {
        "colab": {
          "base_uri": "https://localhost:8080/"
        },
        "id": "O6dtFe0t_Ntl",
        "outputId": "396d16ac-3e06-406e-90ed-b7a80ea1538b"
      },
      "execution_count": 47,
      "outputs": [
        {
          "output_type": "execute_result",
          "data": {
            "text/plain": [
              "(-0.44566536986149763, 4.572044037462716e-108)"
            ]
          },
          "metadata": {},
          "execution_count": 47
        }
      ]
    },
    {
      "cell_type": "markdown",
      "source": [
        " **Alternative Hypothesis** is correct. There is a strong statistically significant relationship between kids in the household and meat products; this is a negative relationship, as evidenced by the negative statistic and very small p-value. Therefore, our customers with small children in the household buy less meat than our customers without small children. "
      ],
      "metadata": {
        "id": "FYrCwDq9_Z9V"
      }
    },
    {
      "cell_type": "code",
      "source": [
        "sns.histplot(x='MntMeatProducts', y='Income', hue='Kidhome', data=market_df)\n",
        "plt.ioff()"
      ],
      "metadata": {
        "colab": {
          "base_uri": "https://localhost:8080/",
          "height": 285
        },
        "id": "cXe4doPjivmB",
        "outputId": "a5b11605-a818-478c-f794-d8b0fc887280"
      },
      "execution_count": 45,
      "outputs": [
        {
          "output_type": "display_data",
          "data": {
            "text/plain": [
              "<Figure size 432x288 with 1 Axes>"
            ],
            "image/png": "[encoded data removed]"
          },
          "metadata": {}
        }
      ]
    },
    {
      "cell_type": "markdown",
      "source": [
        "**Conclusions** Our highest purchases of meat products comes from customers who make more than 60,000 per year, and who have one or fewer small children in the home. "
      ],
      "metadata": {
        "id": "0IiyL4OJ_1ya"
      }
    },
    {
      "cell_type": "markdown",
      "source": [
        "##Fish\n"
      ],
      "metadata": {
        "id": "oRg3_7xnMxpH"
      }
    },
    {
      "cell_type": "markdown",
      "source": [
        "Let's investigate the statistical analysis between our customer's income, children in the household, and purchases of fish products. "
      ],
      "metadata": {
        "id": "T5ioYoI0AB0V"
      }
    },
    {
      "cell_type": "markdown",
      "source": [
        "###Income"
      ],
      "metadata": {
        "id": "G1dJ5HzCi2LJ"
      }
    },
    {
      "cell_type": "code",
      "source": [
        "stats.pearsonr(market_df['Income'], market_df['MntFishProducts'])"
      ],
      "metadata": {
        "colab": {
          "base_uri": "https://localhost:8080/"
        },
        "id": "e2AOMClGmJUL",
        "outputId": "acd93703-e810-4ebb-dd47-9ea9a05c06b1"
      },
      "execution_count": 30,
      "outputs": [
        {
          "output_type": "execute_result",
          "data": {
            "text/plain": [
              "(0.5517580018179089, 6.6356546909818e-176)"
            ]
          },
          "metadata": {},
          "execution_count": 30
        }
      ]
    },
    {
      "cell_type": "markdown",
      "source": [
        " **Alternative Hypothesis** is correct. We have a positive statistical relationshp between Income and amount of Fish products bought by our customers. "
      ],
      "metadata": {
        "id": "-dtq9Q28Ab8M"
      }
    },
    {
      "cell_type": "code",
      "source": [
        "sns.histplot(y='Income', x='MntFishProducts', data=market_df)\n",
        "plt.ioff()"
      ],
      "metadata": {
        "colab": {
          "base_uri": "https://localhost:8080/",
          "height": 285
        },
        "id": "b5vZ9bGCAhWE",
        "outputId": "20315726-90f0-422a-c662-9edea2f30f0d"
      },
      "execution_count": 50,
      "outputs": [
        {
          "output_type": "display_data",
          "data": {
            "text/plain": [
              "<Figure size 432x288 with 1 Axes>"
            ],
            "image/png": "[encoded data removed]"
          },
          "metadata": {}
        }
      ]
    },
    {
      "cell_type": "markdown",
      "source": [
        "Here we can see that our customers above the 50,000 salary level bought more fish products. "
      ],
      "metadata": {
        "id": "mj9hZvkHBB94"
      }
    },
    {
      "cell_type": "markdown",
      "source": [
        "###Kids in Household"
      ],
      "metadata": {
        "id": "izT2azSoi3pt"
      }
    },
    {
      "cell_type": "code",
      "source": [
        "sns.histplot(x='MntFishProducts', y='Income', hue='Kidhome', data=market_df)\n",
        "plt.ioff()"
      ],
      "metadata": {
        "id": "8cRoh-DGM16K",
        "colab": {
          "base_uri": "https://localhost:8080/",
          "height": 285
        },
        "outputId": "13bb719c-e98d-4755-d163-cf857afa8f3f"
      },
      "execution_count": 51,
      "outputs": [
        {
          "output_type": "display_data",
          "data": {
            "text/plain": [
              "<Figure size 432x288 with 1 Axes>"
            ],
            "image/png": "[encoded data removed]"
          },
          "metadata": {}
        }
      ]
    },
    {
      "cell_type": "markdown",
      "source": [
        "#Sweets"
      ],
      "metadata": {
        "id": "sIDyQ6DeM2VK"
      }
    },
    {
      "cell_type": "markdown",
      "source": [
        "###Income"
      ],
      "metadata": {
        "id": "i3C2GSYIi56e"
      }
    },
    {
      "cell_type": "code",
      "source": [
        "stats.pearsonr(market_df['Income'], market_df['MntSweetProducts'])"
      ],
      "metadata": {
        "colab": {
          "base_uri": "https://localhost:8080/"
        },
        "id": "vvLb5GNdm2VM",
        "outputId": "acf536e7-1338-4a84-98ce-4572b7cc47fc"
      },
      "execution_count": 32,
      "outputs": [
        {
          "output_type": "execute_result",
          "data": {
            "text/plain": [
              "(0.5556010365636543, 7.639670998086062e-179)"
            ]
          },
          "metadata": {},
          "execution_count": 32
        }
      ]
    },
    {
      "cell_type": "markdown",
      "source": [
        " **Alternative Hypothesis** is correct. There is a positive statistically significant relationship between income and sweet products purchased. "
      ],
      "metadata": {
        "id": "y8_1pmwgCTnM"
      }
    },
    {
      "cell_type": "markdown",
      "source": [
        "###Kids in Household"
      ],
      "metadata": {
        "id": "02581xXhi9YW"
      }
    },
    {
      "cell_type": "code",
      "source": [
        "sns.histplot(x='MntSweetProducts', y='Income', hue='Kidhome', data=market_df)"
      ],
      "metadata": {
        "id": "XIRy5VOcM8Z-",
        "colab": {
          "base_uri": "https://localhost:8080/",
          "height": 303
        },
        "outputId": "2c4e33b0-a991-458d-b19e-d66f5191175f"
      },
      "execution_count": 52,
      "outputs": [
        {
          "output_type": "execute_result",
          "data": {
            "text/plain": [
              "<matplotlib.axes._subplots.AxesSubplot at 0x7ff628ec8c50>"
            ]
          },
          "metadata": {},
          "execution_count": 52
        },
        {
          "output_type": "display_data",
          "data": {
            "text/plain": [
              "<Figure size 432x288 with 1 Axes>"
            ],
            "image/png": "[encoded data removed]"
          },
          "metadata": {}
        }
      ]
    },
    {
      "cell_type": "markdown",
      "source": [
        "From this chart we can see--the households with higher incomes and fewer children drove more purchases of sweet products. "
      ],
      "metadata": {
        "id": "XinZE6bZCdEJ"
      }
    },
    {
      "cell_type": "markdown",
      "source": [
        "#Gold\n"
      ],
      "metadata": {
        "id": "iOFricnJM7oP"
      }
    },
    {
      "cell_type": "markdown",
      "source": [
        "###Income"
      ],
      "metadata": {
        "id": "QOko7AhKi_Uy"
      }
    },
    {
      "cell_type": "code",
      "source": [
        "stats.pearsonr(market_df['Income'], market_df['MntGoldProds'])"
      ],
      "metadata": {
        "colab": {
          "base_uri": "https://localhost:8080/"
        },
        "id": "6skXNvFenIsQ",
        "outputId": "78ba4fd9-c32b-468c-a1df-3027a115a7d2"
      },
      "execution_count": 34,
      "outputs": [
        {
          "output_type": "execute_result",
          "data": {
            "text/plain": [
              "(0.41765287493031356, 8.143126758477232e-94)"
            ]
          },
          "metadata": {},
          "execution_count": 34
        }
      ]
    },
    {
      "cell_type": "markdown",
      "source": [
        " **Alternative Hypothesis** is correct. There is a statistically significant relationship between the amount of income of our customers and purchases in Gold products. "
      ],
      "metadata": {
        "id": "PKgH-rz3Cmf6"
      }
    },
    {
      "cell_type": "code",
      "source": [
        "sns.histplot(y='Income', x='MntGoldProds', data=market_df)\n",
        "plt.ioff()"
      ],
      "metadata": {
        "colab": {
          "base_uri": "https://localhost:8080/",
          "height": 285
        },
        "id": "G1cd_Qk3Cw3t",
        "outputId": "55669bde-109f-4882-bbb3-004c692cad2d"
      },
      "execution_count": 57,
      "outputs": [
        {
          "output_type": "display_data",
          "data": {
            "text/plain": [
              "<Figure size 432x288 with 1 Axes>"
            ],
            "image/png": "[encoded data removed]"
          },
          "metadata": {}
        }
      ]
    },
    {
      "cell_type": "markdown",
      "source": [
        "###Kids in Household"
      ],
      "metadata": {
        "id": "x9pty3wZjARX"
      }
    },
    {
      "cell_type": "code",
      "source": [
        "sns.histplot(x='MntGoldProds', y='Income', hue='Kidhome', data=market_df)\n",
        "plt.ioff()"
      ],
      "metadata": {
        "colab": {
          "base_uri": "https://localhost:8080/",
          "height": 285
        },
        "id": "sB9v4DEJnWfk",
        "outputId": "72059694-c5f0-43e1-c41c-545667c53d53"
      },
      "execution_count": 59,
      "outputs": [
        {
          "output_type": "display_data",
          "data": {
            "text/plain": [
              "<Figure size 432x288 with 1 Axes>"
            ],
            "image/png": "[encoded data removed]"
          },
          "metadata": {}
        }
      ]
    },
    {
      "cell_type": "markdown",
      "source": [
        "As we can see from the chart above, customers with incomes over 40,000 who had one or no children comprised the higher purchases of our Gold products the last two years. "
      ],
      "metadata": {
        "id": "3zKe7WsBDdmn"
      }
    },
    {
      "cell_type": "markdown",
      "source": [
        "#Marketing Actions"
      ],
      "metadata": {
        "id": "qnqk_0gDDt_y"
      }
    },
    {
      "cell_type": "markdown",
      "source": [
        "This Analysis has only dug deeply into two factors which influence purchases--Income and children in the home. Based on these two factors, we can see that the customers with our highest purchases are:\n",
        "\n",
        "\n",
        "1.   Making over 40,000 per year\n",
        "2.   Mostely families without children\n",
        "\n",
        "**Actions:** Depending on our product sourcing and marketing goals, there are two actions we could take based on this analysis: \n",
        "\n",
        "\n",
        "1.   Increase stock of lower-priced goods to increase purchases in families with lower incomes or multiple children; \n",
        "2.   Cater to our current market of higher income customers who have 1 or no children.\n",
        "\n",
        "\n",
        "**Further Investigation:** What should we look at in the next phase of our analysis? \n",
        "  -What are the demographics of customers who are purchasing online versus in store?\n",
        "  -What are the demographics of our catalog purchasing customers?\n",
        "  -What is the impact of web visits per month on our web purchases?\n",
        "  -Who is using our coupons from the 1st, 2nd, 3rd, 4th, and 5th advertisting campaings? \n",
        "  -Finally, what do our customers say that is critical of us? Who is complaining, and about what? \n",
        "\n",
        "  **Conclusion** This analysis could go a lot further--into the statitiscs of each of the metrics that really make our customers purchase the most and stick with us as a company. Marketing should take a look at these demographics and decide with executive stakeholders how best to approach future campaings. \n",
        "\n",
        "  \n",
        "\n",
        "\n",
        "\n",
        "\n"
      ],
      "metadata": {
        "id": "TwFTDDU_DykU"
      }
    }
  ],
  "metadata": {
    "colab": {
      "collapsed_sections": [],
      "toc_visible": true,
      "provenance": [],
      "authorship_tag": "ABX9TyNMWQI5JVfFfTcrrF1rolLD",
      "include_colab_link": true
    },
    "kernelspec": {
      "display_name": "Python 3",
      "name": "python3"
    },
    "language_info": {
      "name": "python"
    }
  },
  "nbformat": 4,
  "nbformat_minor": 0
}