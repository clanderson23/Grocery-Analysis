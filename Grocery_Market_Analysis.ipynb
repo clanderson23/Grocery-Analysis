{
  "cells": [
    {
      "cell_type": "markdown",
      "metadata": {
        "id": "view-in-github",
        "colab_type": "text"
      },
      "source": [
        "<a href=\"https://colab.research.google.com/github/clanderson23/Grocery-Analysis/blob/main/Grocery_Market_Analysis.ipynb\" target=\"_parent\"><img src=\"https://colab.research.google.com/assets/colab-badge.svg\" alt=\"Open In Colab\"/></a>"
      ]
    },
    {
      "cell_type": "code",
      "execution_count": 1,
      "metadata": {
        "colab": {
          "base_uri": "https://localhost:8080/"
        },
        "id": "pXCS44ujKqAo",
        "outputId": "ea2aeb8a-8722-4f2f-f8a3-063a2d3abec8"
      },
      "outputs": [
        {
          "output_type": "stream",
          "name": "stdout",
          "text": [
            "Mounted at /content/gdrive\n"
          ]
        }
      ],
      "source": [
        "from google.colab import drive\n",
        "\n",
        "drive.mount('/content/gdrive')"
      ]
    },
    {
      "cell_type": "markdown",
      "metadata": {
        "id": "vDIK54VpO6ln"
      },
      "source": [
        "# Market Analysis: Online Grocery Orders\n"
      ]
    },
    {
      "cell_type": "markdown",
      "metadata": {
        "id": "cWDFgiz3MRfR"
      },
      "source": [
        "\n",
        "by Cheryl Anderson \n",
        "\n",
        "October 2022"
      ]
    },
    {
      "cell_type": "markdown",
      "metadata": {
        "id": "NUXEri1EkHyH"
      },
      "source": [
        "##Process"
      ]
    },
    {
      "cell_type": "markdown",
      "metadata": {
        "id": "b6uW3JZDMpn3"
      },
      "source": [
        "**Dataset:** https://www.kaggle.com/datasets/jackdaoud/marketing-data\n",
        "\n",
        "**Goal:** This project contains critical information about consumer habits regarding online grocery purchases. Our goal is to look at the factors which contribute to the highest amount of purchases. \n",
        "\n",
        "**Null Hypothesis:** The factor(s) do not have a statistically signficant impact on higher purchases.\n",
        "\n",
        "**Alternative Hypothesis:** The factor(s) do have a statistically significant impact on higer purchases. \n",
        "\n",
        "**Process:** Using statistical analysis in Python, we will investigagte which factors influence purchases the most, taking into account statistical correlation and p-value to determine the most valuable demographics to target in advertising. "
      ]
    },
    {
      "cell_type": "code",
      "execution_count": 2,
      "metadata": {
        "id": "BdLbi6g9Lfjf"
      },
      "outputs": [],
      "source": [
        "import pandas as pd\n",
        "import matplotlib.pyplot as plt\n",
        "import seaborn as sns\n",
        "import math\n",
        "from scipy.stats.stats import ttest_ind\n",
        "from scipy import stats\n",
        "sns.set()\n",
        "from google.colab import drive\n",
        "import warnings\n",
        "\n",
        "warnings.filterwarnings('ignore')"
      ]
    },
    {
      "cell_type": "code",
      "execution_count": 3,
      "metadata": {
        "colab": {
          "base_uri": "https://localhost:8080/",
          "height": 317
        },
        "id": "J5yXZv8YLj0F",
        "outputId": "90ed7c1d-dc81-4811-d32c-f5943bb8be56"
      },
      "outputs": [
        {
          "output_type": "execute_result",
          "data": {
            "text/plain": [
              "   Income  Kidhome  Teenhome  Recency  MntWines  MntFruits  MntMeatProducts  \\\n",
              "0   58138        0         0       58       635         88              546   \n",
              "1   46344        1         1       38        11          1                6   \n",
              "2   71613        0         0       26       426         49              127   \n",
              "3   26646        1         0       26        11          4               20   \n",
              "4   58293        1         0       94       173         43              118   \n",
              "\n",
              "   MntFishProducts  MntSweetProducts  MntGoldProds  ...  marital_Together  \\\n",
              "0              172                88            88  ...                 0   \n",
              "1                2                 1             6  ...                 0   \n",
              "2              111                21            42  ...                 1   \n",
              "3               10                 3             5  ...                 1   \n",
              "4               46                27            15  ...                 0   \n",
              "\n",
              "   marital_Widow  education_2n Cycle  education_Basic  education_Graduation  \\\n",
              "0              0                   0                0                     1   \n",
              "1              0                   0                0                     1   \n",
              "2              0                   0                0                     1   \n",
              "3              0                   0                0                     1   \n",
              "4              0                   0                0                     0   \n",
              "\n",
              "   education_Master  education_PhD  MntTotal  MntRegularProds  \\\n",
              "0                 0              0      1529             1441   \n",
              "1                 0              0        21               15   \n",
              "2                 0              0       734              692   \n",
              "3                 0              0        48               43   \n",
              "4                 0              1       407              392   \n",
              "\n",
              "   AcceptedCmpOverall  \n",
              "0                   0  \n",
              "1                   0  \n",
              "2                   0  \n",
              "3                   0  \n",
              "4                   0  \n",
              "\n",
              "[5 rows x 39 columns]"
            ],
            "text/html": [
              "\n",
              "  <div id=\"df-7406d466-cec8-436c-b186-1d310abd6a83\">\n",
              "    <div class=\"colab-df-container\">\n",
              "      <div>\n",
              "<style scoped>\n",
              "    .dataframe tbody tr th:only-of-type {\n",
              "        vertical-align: middle;\n",
              "    }\n",
              "\n",
              "    .dataframe tbody tr th {\n",
              "        vertical-align: top;\n",
              "    }\n",
              "\n",
              "    .dataframe thead th {\n",
              "        text-align: right;\n",
              "    }\n",
              "</style>\n",
              "<table border=\"1\" class=\"dataframe\">\n",
              "  <thead>\n",
              "    <tr style=\"text-align: right;\">\n",
              "      <th></th>\n",
              "      <th>Income</th>\n",
              "      <th>Kidhome</th>\n",
              "      <th>Teenhome</th>\n",
              "      <th>Recency</th>\n",
              "      <th>MntWines</th>\n",
              "      <th>MntFruits</th>\n",
              "      <th>MntMeatProducts</th>\n",
              "      <th>MntFishProducts</th>\n",
              "      <th>MntSweetProducts</th>\n",
              "      <th>MntGoldProds</th>\n",
              "      <th>...</th>\n",
              "      <th>marital_Together</th>\n",
              "      <th>marital_Widow</th>\n",
              "      <th>education_2n Cycle</th>\n",
              "      <th>education_Basic</th>\n",
              "      <th>education_Graduation</th>\n",
              "      <th>education_Master</th>\n",
              "      <th>education_PhD</th>\n",
              "      <th>MntTotal</th>\n",
              "      <th>MntRegularProds</th>\n",
              "      <th>AcceptedCmpOverall</th>\n",
              "    </tr>\n",
              "  </thead>\n",
              "  <tbody>\n",
              "    <tr>\n",
              "      <th>0</th>\n",
              "      <td>58138</td>\n",
              "      <td>0</td>\n",
              "      <td>0</td>\n",
              "      <td>58</td>\n",
              "      <td>635</td>\n",
              "      <td>88</td>\n",
              "      <td>546</td>\n",
              "      <td>172</td>\n",
              "      <td>88</td>\n",
              "      <td>88</td>\n",
              "      <td>...</td>\n",
              "      <td>0</td>\n",
              "      <td>0</td>\n",
              "      <td>0</td>\n",
              "      <td>0</td>\n",
              "      <td>1</td>\n",
              "      <td>0</td>\n",
              "      <td>0</td>\n",
              "      <td>1529</td>\n",
              "      <td>1441</td>\n",
              "      <td>0</td>\n",
              "    </tr>\n",
              "    <tr>\n",
              "      <th>1</th>\n",
              "      <td>46344</td>\n",
              "      <td>1</td>\n",
              "      <td>1</td>\n",
              "      <td>38</td>\n",
              "      <td>11</td>\n",
              "      <td>1</td>\n",
              "      <td>6</td>\n",
              "      <td>2</td>\n",
              "      <td>1</td>\n",
              "      <td>6</td>\n",
              "      <td>...</td>\n",
              "      <td>0</td>\n",
              "      <td>0</td>\n",
              "      <td>0</td>\n",
              "      <td>0</td>\n",
              "      <td>1</td>\n",
              "      <td>0</td>\n",
              "      <td>0</td>\n",
              "      <td>21</td>\n",
              "      <td>15</td>\n",
              "      <td>0</td>\n",
              "    </tr>\n",
              "    <tr>\n",
              "      <th>2</th>\n",
              "      <td>71613</td>\n",
              "      <td>0</td>\n",
              "      <td>0</td>\n",
              "      <td>26</td>\n",
              "      <td>426</td>\n",
              "      <td>49</td>\n",
              "      <td>127</td>\n",
              "      <td>111</td>\n",
              "      <td>21</td>\n",
              "      <td>42</td>\n",
              "      <td>...</td>\n",
              "      <td>1</td>\n",
              "      <td>0</td>\n",
              "      <td>0</td>\n",
              "      <td>0</td>\n",
              "      <td>1</td>\n",
              "      <td>0</td>\n",
              "      <td>0</td>\n",
              "      <td>734</td>\n",
              "      <td>692</td>\n",
              "      <td>0</td>\n",
              "    </tr>\n",
              "    <tr>\n",
              "      <th>3</th>\n",
              "      <td>26646</td>\n",
              "      <td>1</td>\n",
              "      <td>0</td>\n",
              "      <td>26</td>\n",
              "      <td>11</td>\n",
              "      <td>4</td>\n",
              "      <td>20</td>\n",
              "      <td>10</td>\n",
              "      <td>3</td>\n",
              "      <td>5</td>\n",
              "      <td>...</td>\n",
              "      <td>1</td>\n",
              "      <td>0</td>\n",
              "      <td>0</td>\n",
              "      <td>0</td>\n",
              "      <td>1</td>\n",
              "      <td>0</td>\n",
              "      <td>0</td>\n",
              "      <td>48</td>\n",
              "      <td>43</td>\n",
              "      <td>0</td>\n",
              "    </tr>\n",
              "    <tr>\n",
              "      <th>4</th>\n",
              "      <td>58293</td>\n",
              "      <td>1</td>\n",
              "      <td>0</td>\n",
              "      <td>94</td>\n",
              "      <td>173</td>\n",
              "      <td>43</td>\n",
              "      <td>118</td>\n",
              "      <td>46</td>\n",
              "      <td>27</td>\n",
              "      <td>15</td>\n",
              "      <td>...</td>\n",
              "      <td>0</td>\n",
              "      <td>0</td>\n",
              "      <td>0</td>\n",
              "      <td>0</td>\n",
              "      <td>0</td>\n",
              "      <td>0</td>\n",
              "      <td>1</td>\n",
              "      <td>407</td>\n",
              "      <td>392</td>\n",
              "      <td>0</td>\n",
              "    </tr>\n",
              "  </tbody>\n",
              "</table>\n",
              "<p>5 rows × 39 columns</p>\n",
              "</div>\n",
              "      <button class=\"colab-df-convert\" onclick=\"convertToInteractive('df-7406d466-cec8-436c-b186-1d310abd6a83')\"\n",
              "              title=\"Convert this dataframe to an interactive table.\"\n",
              "              style=\"display:none;\">\n",
              "        \n",
              "  <svg xmlns=\"http://www.w3.org/2000/svg\" height=\"24px\"viewBox=\"0 0 24 24\"\n",
              "       width=\"24px\">\n",
              "    <path d=\"M0 0h24v24H0V0z\" fill=\"none\"/>\n",
              "    <path d=\"M18.56 5.44l.94 2.06.94-2.06 2.06-.94-2.06-.94-.94-2.06-.94 2.06-2.06.94zm-11 1L8.5 8.5l.94-2.06 2.06-.94-2.06-.94L8.5 2.5l-.94 2.06-2.06.94zm10 10l.94 2.06.94-2.06 2.06-.94-2.06-.94-.94-2.06-.94 2.06-2.06.94z\"/><path d=\"M17.41 7.96l-1.37-1.37c-.4-.4-.92-.59-1.43-.59-.52 0-1.04.2-1.43.59L10.3 9.45l-7.72 7.72c-.78.78-.78 2.05 0 2.83L4 21.41c.39.39.9.59 1.41.59.51 0 1.02-.2 1.41-.59l7.78-7.78 2.81-2.81c.8-.78.8-2.07 0-2.86zM5.41 20L4 18.59l7.72-7.72 1.47 1.35L5.41 20z\"/>\n",
              "  </svg>\n",
              "      </button>\n",
              "      \n",
              "  <style>\n",
              "    .colab-df-container {\n",
              "      display:flex;\n",
              "      flex-wrap:wrap;\n",
              "      gap: 12px;\n",
              "    }\n",
              "\n",
              "    .colab-df-convert {\n",
              "      background-color: #E8F0FE;\n",
              "      border: none;\n",
              "      border-radius: 50%;\n",
              "      cursor: pointer;\n",
              "      display: none;\n",
              "      fill: #1967D2;\n",
              "      height: 32px;\n",
              "      padding: 0 0 0 0;\n",
              "      width: 32px;\n",
              "    }\n",
              "\n",
              "    .colab-df-convert:hover {\n",
              "      background-color: #E2EBFA;\n",
              "      box-shadow: 0px 1px 2px rgba(60, 64, 67, 0.3), 0px 1px 3px 1px rgba(60, 64, 67, 0.15);\n",
              "      fill: #174EA6;\n",
              "    }\n",
              "\n",
              "    [theme=dark] .colab-df-convert {\n",
              "      background-color: #3B4455;\n",
              "      fill: #D2E3FC;\n",
              "    }\n",
              "\n",
              "    [theme=dark] .colab-df-convert:hover {\n",
              "      background-color: #434B5C;\n",
              "      box-shadow: 0px 1px 3px 1px rgba(0, 0, 0, 0.15);\n",
              "      filter: drop-shadow(0px 1px 2px rgba(0, 0, 0, 0.3));\n",
              "      fill: #FFFFFF;\n",
              "    }\n",
              "  </style>\n",
              "\n",
              "      <script>\n",
              "        const buttonEl =\n",
              "          document.querySelector('#df-7406d466-cec8-436c-b186-1d310abd6a83 button.colab-df-convert');\n",
              "        buttonEl.style.display =\n",
              "          google.colab.kernel.accessAllowed ? 'block' : 'none';\n",
              "\n",
              "        async function convertToInteractive(key) {\n",
              "          const element = document.querySelector('#df-7406d466-cec8-436c-b186-1d310abd6a83');\n",
              "          const dataTable =\n",
              "            await google.colab.kernel.invokeFunction('convertToInteractive',\n",
              "                                                     [key], {});\n",
              "          if (!dataTable) return;\n",
              "\n",
              "          const docLinkHtml = 'Like what you see? Visit the ' +\n",
              "            '<a target=\"_blank\" href=https://colab.research.google.com/notebooks/data_table.ipynb>data table notebook</a>'\n",
              "            + ' to learn more about interactive tables.';\n",
              "          element.innerHTML = '';\n",
              "          dataTable['output_type'] = 'display_data';\n",
              "          await google.colab.output.renderOutput(dataTable, element);\n",
              "          const docLink = document.createElement('div');\n",
              "          docLink.innerHTML = docLinkHtml;\n",
              "          element.appendChild(docLink);\n",
              "        }\n",
              "      </script>\n",
              "    </div>\n",
              "  </div>\n",
              "  "
            ]
          },
          "metadata": {},
          "execution_count": 3
        }
      ],
      "source": [
        "import pandas as pd\n",
        "market_df=pd.read_csv('/content/gdrive/My Drive/ifood_df.csv')\n",
        "\n",
        "market_df.head()"
      ]
    },
    {
      "cell_type": "code",
      "execution_count": 3,
      "metadata": {
        "id": "hQa5SosSL52R"
      },
      "outputs": [],
      "source": []
    },
    {
      "cell_type": "code",
      "execution_count": 4,
      "metadata": {
        "colab": {
          "base_uri": "https://localhost:8080/"
        },
        "id": "XiQ6IbGQL6TF",
        "outputId": "84b03f7e-6e13-41b1-a5cf-e463e2589fc5"
      },
      "outputs": [
        {
          "output_type": "execute_result",
          "data": {
            "text/plain": [
              "(2205, 39)"
            ]
          },
          "metadata": {},
          "execution_count": 4
        }
      ],
      "source": [
        "market_df.shape"
      ]
    },
    {
      "cell_type": "code",
      "execution_count": 5,
      "metadata": {
        "colab": {
          "base_uri": "https://localhost:8080/"
        },
        "id": "8xD4cRXRL_Mu",
        "outputId": "ca6e3c02-0469-4787-9cf6-b33b75f3c79a"
      },
      "outputs": [
        {
          "output_type": "stream",
          "name": "stdout",
          "text": [
            "<class 'pandas.core.frame.DataFrame'>\n",
            "RangeIndex: 2205 entries, 0 to 2204\n",
            "Data columns (total 39 columns):\n",
            " #   Column                Non-Null Count  Dtype\n",
            "---  ------                --------------  -----\n",
            " 0   Income                2205 non-null   int64\n",
            " 1   Kidhome               2205 non-null   int64\n",
            " 2   Teenhome              2205 non-null   int64\n",
            " 3   Recency               2205 non-null   int64\n",
            " 4   MntWines              2205 non-null   int64\n",
            " 5   MntFruits             2205 non-null   int64\n",
            " 6   MntMeatProducts       2205 non-null   int64\n",
            " 7   MntFishProducts       2205 non-null   int64\n",
            " 8   MntSweetProducts      2205 non-null   int64\n",
            " 9   MntGoldProds          2205 non-null   int64\n",
            " 10  NumDealsPurchases     2205 non-null   int64\n",
            " 11  NumWebPurchases       2205 non-null   int64\n",
            " 12  NumCatalogPurchases   2205 non-null   int64\n",
            " 13  NumStorePurchases     2205 non-null   int64\n",
            " 14  NumWebVisitsMonth     2205 non-null   int64\n",
            " 15  AcceptedCmp3          2205 non-null   int64\n",
            " 16  AcceptedCmp4          2205 non-null   int64\n",
            " 17  AcceptedCmp5          2205 non-null   int64\n",
            " 18  AcceptedCmp1          2205 non-null   int64\n",
            " 19  AcceptedCmp2          2205 non-null   int64\n",
            " 20  Complain              2205 non-null   int64\n",
            " 21  Z_CostContact         2205 non-null   int64\n",
            " 22  Z_Revenue             2205 non-null   int64\n",
            " 23  Response              2205 non-null   int64\n",
            " 24  Age                   2205 non-null   int64\n",
            " 25  Customer_Days         2205 non-null   int64\n",
            " 26  marital_Divorced      2205 non-null   int64\n",
            " 27  marital_Married       2205 non-null   int64\n",
            " 28  marital_Single        2205 non-null   int64\n",
            " 29  marital_Together      2205 non-null   int64\n",
            " 30  marital_Widow         2205 non-null   int64\n",
            " 31  education_2n Cycle    2205 non-null   int64\n",
            " 32  education_Basic       2205 non-null   int64\n",
            " 33  education_Graduation  2205 non-null   int64\n",
            " 34  education_Master      2205 non-null   int64\n",
            " 35  education_PhD         2205 non-null   int64\n",
            " 36  MntTotal              2205 non-null   int64\n",
            " 37  MntRegularProds       2205 non-null   int64\n",
            " 38  AcceptedCmpOverall    2205 non-null   int64\n",
            "dtypes: int64(39)\n",
            "memory usage: 672.0 KB\n"
          ]
        }
      ],
      "source": [
        "market_df.info()"
      ]
    },
    {
      "cell_type": "markdown",
      "metadata": {
        "id": "pl1y4CZ1Nezs"
      },
      "source": [
        "There are 39 columns of very important information about our consumer's purchases. First, let's look at income.\n"
      ]
    },
    {
      "cell_type": "markdown",
      "metadata": {
        "id": "WBfewcc7Owkv"
      },
      "source": [
        "# Income\n"
      ]
    },
    {
      "cell_type": "markdown",
      "metadata": {
        "id": "murbSJ_0PLeY"
      },
      "source": [
        "##Statistical Analysis\n",
        "**Null Hypothesis:** Income does not have a statistically significant influence on customer's purchase habits. \n",
        "\n",
        "**Alternative Hypothesis:** Income does have a statistically significant influence on customer's purchase habits.\n",
        "\n",
        "Let's investigate the relationship between 'Income' and 'NumStorePurchases,' or the number of purchases made by each consumer.  "
      ]
    },
    {
      "cell_type": "code",
      "execution_count": 6,
      "metadata": {
        "id": "vr7FvcqOOHv9"
      },
      "outputs": [],
      "source": [
        "#Get statistics on Income. \n"
      ]
    },
    {
      "cell_type": "code",
      "execution_count": 7,
      "metadata": {
        "colab": {
          "base_uri": "https://localhost:8080/"
        },
        "id": "HhKZX9gaXyAh",
        "outputId": "aa2ffa45-aafc-4338-e924-4bbf8ee65cee"
      },
      "outputs": [
        {
          "output_type": "execute_result",
          "data": {
            "text/plain": [
              "count      2205.000000\n",
              "mean      51622.094785\n",
              "std       20713.063826\n",
              "min        1730.000000\n",
              "25%       35196.000000\n",
              "50%       51287.000000\n",
              "75%       68281.000000\n",
              "max      113734.000000\n",
              "Name: Income, dtype: float64"
            ]
          },
          "metadata": {},
          "execution_count": 7
        }
      ],
      "source": [
        "market_df['Income'].describe()"
      ]
    },
    {
      "cell_type": "markdown",
      "metadata": {
        "id": "tT7gIlQtYie2"
      },
      "source": [
        "The mean income for this dataset is 51,622, with more than 50% of the population making between 51,287 to 68,281.\n",
        "\n",
        "Now let's look at correlations between 'Income' and 'NumStorePurchases.'"
      ]
    },
    {
      "cell_type": "code",
      "execution_count": 8,
      "metadata": {
        "colab": {
          "base_uri": "https://localhost:8080/"
        },
        "id": "oW1QP1DqdvSI",
        "outputId": "32485ee5-8747-4569-e218-6b0968f5ee38"
      },
      "outputs": [
        {
          "output_type": "execute_result",
          "data": {
            "text/plain": [
              "0.687205716297932"
            ]
          },
          "metadata": {},
          "execution_count": 8
        }
      ],
      "source": [
        "market_df['Income'].corr(market_df['NumStorePurchases'])"
      ]
    },
    {
      "cell_type": "markdown",
      "metadata": {
        "id": "aseWubzGeAPr"
      },
      "source": [
        "The correlation is close to 1, so there is a positive relationship between these two factors. Let's do a statistical test to determine a p-value. "
      ]
    },
    {
      "cell_type": "code",
      "execution_count": 9,
      "metadata": {
        "colab": {
          "base_uri": "https://localhost:8080/"
        },
        "id": "RpGMFdqveEeM",
        "outputId": "2be8bbf4-db0d-4c43-dd42-055c8e116744"
      },
      "outputs": [
        {
          "output_type": "execute_result",
          "data": {
            "text/plain": [
              "(0.687205716297932, 4.428408588774628e-308)"
            ]
          },
          "metadata": {},
          "execution_count": 9
        }
      ],
      "source": [
        "from scipy import stats\n",
        "stats.pearsonr(market_df['Income'], market_df['NumStorePurchases'])"
      ]
    },
    {
      "cell_type": "markdown",
      "metadata": {
        "id": "4Az9KxAZfURP"
      },
      "source": [
        "**Alternative Hypothesis is Correct:** The p-value is very small, and negative. This indicates that the lower the income, the less purchases are made. This is logical, but let's put some visuals to it so we can see where best to stack our advertising budget for this demographic. "
      ]
    },
    {
      "cell_type": "markdown",
      "metadata": {
        "id": "MmbNRMi6g38k"
      },
      "source": [
        "##Visualizations"
      ]
    },
    {
      "cell_type": "code",
      "execution_count": 10,
      "metadata": {
        "colab": {
          "base_uri": "https://localhost:8080/",
          "height": 303
        },
        "id": "6LcCcEzvfvnI",
        "outputId": "ebcb8591-72fc-410d-964f-ebdd6315090b"
      },
      "outputs": [
        {
          "output_type": "execute_result",
          "data": {
            "text/plain": [
              "<matplotlib.axes._subplots.AxesSubplot at 0x7f3193779890>"
            ]
          },
          "metadata": {},
          "execution_count": 10
        },
        {
          "output_type": "display_data",
          "data": {
            "text/plain": [
              "<Figure size 432x288 with 1 Axes>"
            ],
            "image/png": "[encoded data removed]"
          },
          "metadata": {}
        }
      ],
      "source": [
        "import seaborn as sns\n",
        "sns.boxplot(y='Income', x= 'NumStorePurchases', data=market_df)"
      ]
    },
    {
      "cell_type": "markdown",
      "metadata": {
        "id": "fMsqA10phoQ8"
      },
      "source": [
        "##Recommendation\n",
        "\n",
        "The higher number of purchases comes from the Incomes between 51K-68K per year. Target marketing towards this demographic.  "
      ]
    },
    {
      "cell_type": "markdown",
      "metadata": {
        "id": "pf0AH_wZiWlj"
      },
      "source": [
        "# Number of Small Children in Household\n",
        "\n",
        "The number of small children in the household is represented by the column 'Kidhome.' Let's investigate this column of data to learn more."
      ]
    },
    {
      "cell_type": "markdown",
      "metadata": {
        "id": "AtxJXIrvjbzg"
      },
      "source": [
        "##Statistical Analysis\n",
        "\n",
        "**Null Hypothesis:** There is no statistically significant relationship between number of small children in the household ('Kidhome') and number of store purchases ('NumStorePurchases')\n",
        "\n",
        "**Alternative Hypothesis:** There is a statistically significant relationship between number of small children in the household ('Kidhome') and number of store purchases ('NumStorePurchases')"
      ]
    },
    {
      "cell_type": "code",
      "execution_count": 11,
      "metadata": {
        "colab": {
          "base_uri": "https://localhost:8080/"
        },
        "id": "wSpX2vlBiZKE",
        "outputId": "68dd2ece-2664-472f-8cd4-daeea6e1c0ba"
      },
      "outputs": [
        {
          "output_type": "execute_result",
          "data": {
            "text/plain": [
              "count    2205.000000\n",
              "mean        0.442177\n",
              "std         0.537132\n",
              "min         0.000000\n",
              "25%         0.000000\n",
              "50%         0.000000\n",
              "75%         1.000000\n",
              "max         2.000000\n",
              "Name: Kidhome, dtype: float64"
            ]
          },
          "metadata": {},
          "execution_count": 11
        }
      ],
      "source": [
        "market_df['Kidhome'].describe()"
      ]
    },
    {
      "cell_type": "markdown",
      "metadata": {
        "id": "sLaOK1qojRxw"
      },
      "source": [
        "75% of the costumers in this dataset have 1 child at home. This can be a very important factor on number of store purchases. Let's see if there is a correlation. "
      ]
    },
    {
      "cell_type": "code",
      "execution_count": 12,
      "metadata": {
        "colab": {
          "base_uri": "https://localhost:8080/"
        },
        "id": "mq6H-P5ikjom",
        "outputId": "b8cc83fd-c09d-4152-8261-29283e9a5898"
      },
      "outputs": [
        {
          "output_type": "execute_result",
          "data": {
            "text/plain": [
              "-0.506543168133882"
            ]
          },
          "metadata": {},
          "execution_count": 12
        }
      ],
      "source": [
        "market_df['Kidhome'].corr(market_df['NumStorePurchases'])"
      ]
    },
    {
      "cell_type": "markdown",
      "metadata": {
        "id": "7AbbWYJkk7WU"
      },
      "source": [
        "The statistical correlation is close to -1, therefore there is a relationship, and it is negative. It is likely that those who have small children do not have as many store purchases. Let's do a pearsonr test to determine the p-value to make sure. "
      ]
    },
    {
      "cell_type": "code",
      "execution_count": 13,
      "metadata": {
        "colab": {
          "base_uri": "https://localhost:8080/"
        },
        "id": "-o0jtEq0lNX5",
        "outputId": "418eb2de-8904-4364-9092-07db617cc2ea"
      },
      "outputs": [
        {
          "output_type": "execute_result",
          "data": {
            "text/plain": [
              "(-0.5065431681338823, 4.851382514503082e-144)"
            ]
          },
          "metadata": {},
          "execution_count": 13
        }
      ],
      "source": [
        "stats.pearsonr(market_df['Kidhome'], market_df['NumStorePurchases'])"
      ]
    },
    {
      "cell_type": "markdown",
      "metadata": {
        "id": "YqQr310tlXxL"
      },
      "source": [
        "**Alternative Hypothesis is Correct:** The p-value is very small, and negative. This indicates that the fewer children are in the home, the *more* purchases are made. This is logical, but let's put some visuals to it so we can see where best to stack our advertising budget for this demographic. "
      ]
    },
    {
      "cell_type": "markdown",
      "metadata": {
        "id": "B2kYVsvIlpz3"
      },
      "source": [
        "##Visualizations"
      ]
    },
    {
      "cell_type": "code",
      "execution_count": 14,
      "metadata": {
        "colab": {
          "base_uri": "https://localhost:8080/",
          "height": 304
        },
        "id": "jUVfdoA1lnKZ",
        "outputId": "32072064-1257-4da0-ed45-e94e661d213d"
      },
      "outputs": [
        {
          "output_type": "execute_result",
          "data": {
            "text/plain": [
              "<matplotlib.axes._subplots.AxesSubplot at 0x7f31935b2c10>"
            ]
          },
          "metadata": {},
          "execution_count": 14
        },
        {
          "output_type": "display_data",
          "data": {
            "text/plain": [
              "<Figure size 432x288 with 1 Axes>"
            ],
            "image/png": "[encoded data removed]"
          },
          "metadata": {}
        }
      ],
      "source": [
        "sns.lineplot(y='Kidhome', x= 'NumStorePurchases', data=market_df)"
      ]
    },
    {
      "cell_type": "markdown",
      "metadata": {
        "id": "nGF7WCPz-8q7"
      },
      "source": [
        "## Recommendation \n",
        "\n",
        "Households with no small children have more purchases overall than households with small children. Of the households with small children, the houses with 1 small child had greater purchases than those with more than one child. Households with no small children are the demographic to target to drive sales for this market."
      ]
    },
    {
      "cell_type": "code",
      "execution_count": 14,
      "metadata": {
        "id": "lI_h-YQd_B63"
      },
      "outputs": [],
      "source": []
    },
    {
      "cell_type": "markdown",
      "metadata": {
        "id": "BfJ_06_Q_mcN"
      },
      "source": [
        "# Number of Teenagers in Household\n"
      ]
    },
    {
      "cell_type": "markdown",
      "metadata": {
        "id": "ZWnossOyAGOK"
      },
      "source": [
        "##Statistical Analysis\n",
        "\n",
        "**Null Hypothesis:** The number of teenagers in household ('Teenhome') does not have an impact on number of store purchased ('NumStorePurchases')\n",
        "**Alternative Hypothesis:** The number of teenagers in household ('Teenhome') does have an impact on number of store purchased ('NumStorePurchases')"
      ]
    },
    {
      "cell_type": "code",
      "execution_count": 15,
      "metadata": {
        "colab": {
          "base_uri": "https://localhost:8080/"
        },
        "id": "Nlt-wEElAIXT",
        "outputId": "52191684-0cd0-4840-b26f-a656f96c9aa3"
      },
      "outputs": [
        {
          "output_type": "execute_result",
          "data": {
            "text/plain": [
              "count    2205.000000\n",
              "mean        0.506576\n",
              "std         0.544380\n",
              "min         0.000000\n",
              "25%         0.000000\n",
              "50%         0.000000\n",
              "75%         1.000000\n",
              "max         2.000000\n",
              "Name: Teenhome, dtype: float64"
            ]
          },
          "metadata": {},
          "execution_count": 15
        }
      ],
      "source": [
        "market_df['Teenhome'].describe()"
      ]
    },
    {
      "cell_type": "code",
      "execution_count": 16,
      "metadata": {
        "colab": {
          "base_uri": "https://localhost:8080/"
        },
        "id": "nhETb_csA9Uq",
        "outputId": "de0e5e85-dae2-48e8-b32a-a76323984f6b"
      },
      "outputs": [
        {
          "output_type": "execute_result",
          "data": {
            "text/plain": [
              "0.04732114813553781"
            ]
          },
          "metadata": {},
          "execution_count": 16
        }
      ],
      "source": [
        "market_df['Teenhome'].corr(market_df['NumStorePurchases'])"
      ]
    },
    {
      "cell_type": "markdown",
      "metadata": {
        "id": "eIOXYDyiBGxm"
      },
      "source": [
        "This number is close to 0, indicating there may not be any correlation between teens in the household and number of store purchases. Let's investigate further. "
      ]
    },
    {
      "cell_type": "code",
      "execution_count": 17,
      "metadata": {
        "colab": {
          "base_uri": "https://localhost:8080/"
        },
        "id": "IYaFem_nB0F4",
        "outputId": "d96af0b2-03b7-4305-b6a6-acc4cfa6b58a"
      },
      "outputs": [
        {
          "output_type": "execute_result",
          "data": {
            "text/plain": [
              "(0.04732114813553772, 0.02627896750707939)"
            ]
          },
          "metadata": {},
          "execution_count": 17
        }
      ],
      "source": [
        "stats.pearsonr(market_df['Teenhome'], market_df['NumStorePurchases'])"
      ]
    },
    {
      "cell_type": "markdown",
      "metadata": {
        "id": "pdkKWXb3CTT8"
      },
      "source": [
        "##Visualizations"
      ]
    },
    {
      "cell_type": "code",
      "execution_count": 18,
      "metadata": {
        "colab": {
          "base_uri": "https://localhost:8080/",
          "height": 303
        },
        "id": "FL1mL4DUCAhl",
        "outputId": "d23bab09-f83b-467e-c1ac-62abe5d15cc6"
      },
      "outputs": [
        {
          "output_type": "execute_result",
          "data": {
            "text/plain": [
              "<matplotlib.axes._subplots.AxesSubplot at 0x7f3193083990>"
            ]
          },
          "metadata": {},
          "execution_count": 18
        },
        {
          "output_type": "display_data",
          "data": {
            "text/plain": [
              "<Figure size 432x288 with 1 Axes>"
            ],
            "image/png": "[encoded data removed]"
          },
          "metadata": {}
        }
      ],
      "source": [
        "sns.lineplot(y='Teenhome', x= 'NumStorePurchases', data=market_df)"
      ]
    },
    {
      "cell_type": "markdown",
      "metadata": {
        "id": "aDqSRYPJCKUE"
      },
      "source": [
        "From the above measures, we can conclude that households with less teens in the home make more purchases."
      ]
    },
    {
      "cell_type": "markdown",
      "metadata": {
        "id": "SA51KGvsCRC9"
      },
      "source": [
        "##Recommendation \n",
        "\n",
        "Households with no teenagers tend to have more purchases than households with teenagers. Target our marketing to the demographics with few or no children. This could be a result of income decreasing with number of children increasing. Let's investigate that in our next statistcal analysis. "
      ]
    },
    {
      "cell_type": "code",
      "source": [
        "#column names\n",
        "market_df.columns"
      ],
      "metadata": {
        "colab": {
          "base_uri": "https://localhost:8080/"
        },
        "id": "yGaUGuOXIKim",
        "outputId": "2729fd20-4b96-4278-c4cc-734f738d2c8c"
      },
      "execution_count": 19,
      "outputs": [
        {
          "output_type": "execute_result",
          "data": {
            "text/plain": [
              "Index(['Income', 'Kidhome', 'Teenhome', 'Recency', 'MntWines', 'MntFruits',\n",
              "       'MntMeatProducts', 'MntFishProducts', 'MntSweetProducts',\n",
              "       'MntGoldProds', 'NumDealsPurchases', 'NumWebPurchases',\n",
              "       'NumCatalogPurchases', 'NumStorePurchases', 'NumWebVisitsMonth',\n",
              "       'AcceptedCmp3', 'AcceptedCmp4', 'AcceptedCmp5', 'AcceptedCmp1',\n",
              "       'AcceptedCmp2', 'Complain', 'Z_CostContact', 'Z_Revenue', 'Response',\n",
              "       'Age', 'Customer_Days', 'marital_Divorced', 'marital_Married',\n",
              "       'marital_Single', 'marital_Together', 'marital_Widow',\n",
              "       'education_2n Cycle', 'education_Basic', 'education_Graduation',\n",
              "       'education_Master', 'education_PhD', 'MntTotal', 'MntRegularProds',\n",
              "       'AcceptedCmpOverall'],\n",
              "      dtype='object')"
            ]
          },
          "metadata": {},
          "execution_count": 19
        }
      ]
    }
  ],
  "metadata": {
    "colab": {
      "collapsed_sections": [],
      "toc_visible": true,
      "provenance": [],
      "authorship_tag": "ABX9TyNvWmV2TgWZmeF2jl0mj8l1",
      "include_colab_link": true
    },
    "kernelspec": {
      "display_name": "Python 3",
      "name": "python3"
    },
    "language_info": {
      "name": "python"
    }
  },
  "nbformat": 4,
  "nbformat_minor": 0
}